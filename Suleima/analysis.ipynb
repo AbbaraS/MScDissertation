{
 "cells": [
  {
   "cell_type": "code",
   "execution_count": 5,
   "id": "5e228e15",
   "metadata": {},
   "outputs": [
    {
     "name": "stdout",
     "output_type": "stream",
     "text": [
      "The autoreload extension is already loaded. To reload it, use:\n",
      "  %reload_ext autoreload\n"
     ]
    }
   ],
   "source": [
    "import os\n",
    "import shutil\n",
    "from pathlib import Path\n",
    "from ipywidgets import interact\n",
    "\n",
    "%load_ext autoreload\n",
    "%autoreload 2\n",
    "%reload_ext autoreload\n",
    "\n",
    "\n",
    "from core.Case import *\n",
    "from core.globals import *\n",
    "from core.Log import *\n",
    "\n",
    "\n",
    "from methods.plots import *\n",
    "from methods.preprocessing import *\n",
    "from methods.intensity import *\n",
    "from methods.slicing import *\n",
    "\n",
    "\n",
    "CNTRL_dicom_root = \"../Takotsubo-Syndrome/data/Inputs/normal_cases/\"\n",
    "TTS_dicom_root = \"../Takotsubo-Syndrome/data/Inputs/takotsubo_cases/\"\n",
    "root_dir = \"data/cases/\"\n"
   ]
  },
  {
   "cell_type": "code",
   "execution_count": null,
   "id": "290195d1",
   "metadata": {},
   "outputs": [],
   "source": [
    "root_dir = Path(\"data/cases\")\n",
    "stats_list = []\n",
    "\n",
    "loop=0\n",
    "for caseID in os.listdir(root_dir):\n",
    "\tif caseID.startswith('.'):\n",
    "\t\tcontinue\n",
    "\tcase = Case(caseID)\n",
    "\tset_log(caseID)\n",
    "\tcasepath = root_dir / caseID\n",
    "\tinfopath = casepath / \"info.txt\"\n",
    "\t#print(f\"Processing {caseID}\")\n",
    "\t## uncomment when info.txt content is fixed\n",
    "\tif infopath.exists():\n",
    "\t\tos.remove(infopath)\n",
    "\ttry:\n",
    "\t\tstats = intensity_stats(case)\n",
    "\t\tstats[\"caseID\"] = caseID\n",
    "\t\tstats_list.append(stats)\n",
    "\t\t#loop += 1\n",
    "\t\t#if loop > 5:\n",
    "\t\t#\tbreak\n",
    "\texcept Exception as e:\n",
    "\t\tprint(f\"Error processing: {e}\")\n",
    "\n"
   ]
  },
  {
   "cell_type": "code",
   "execution_count": 2,
   "id": "fb48267c",
   "metadata": {},
   "outputs": [
    {
     "data": {
      "application/vnd.jupyter.widget-view+json": {
       "model_id": "322e340601694f48ad9f4a96dcfeb897",
       "version_major": 2,
       "version_minor": 0
      },
      "text/plain": [
       "interactive(children=(IntSlider(value=31, description='slice_index', max=63), Output()), _dom_classes=('widget…"
      ]
     },
     "metadata": {},
     "output_type": "display_data"
    }
   ],
   "source": [
    "ctrlID = \"CNTRL_BJB_42898_78F\"\n",
    "ttsID = \"TTS_JET_40340663_84F\"\n",
    "ctrlcase = Case(ctrlID)\n",
    "ttscase = Case(ttsID)\n",
    "scrollable_ct_mask_compare(ctrlcase, ttscase)\n"
   ]
  },
  {
   "cell_type": "code",
   "execution_count": 11,
   "id": "8ec95c9b",
   "metadata": {},
   "outputs": [
    {
     "name": "stdout",
     "output_type": "stream",
     "text": [
      "Mean spacing: [0.71830285 0.7461681  1.7111081 ]\n",
      "Median spacing: [0.703125 0.703125 1.25    ]\n",
      "Range: [0.26171875 0.26171875 0.4       ] [0.976562  2.9999886 5.       ]\n"
     ]
    }
   ],
   "source": [
    "root_dir = Path(\"data/cases\")\n",
    "stats_list = []\n",
    "\n",
    "loop=0\n",
    "cases = os.listdir(root_dir)\n",
    "\n",
    "spacings = []\n",
    "for caseID in cases:\n",
    "\tif caseID.startswith('.'):\n",
    "\t\tcontinue\n",
    "\t#print(f\"Processing {caseID}\")\n",
    "\tcase = Case(caseID)\n",
    "\tct = case.croppedCT\n",
    "\tif ct is None:\n",
    "\t\tcontinue\n",
    "\tspacings.append(ct.spacing)  # tuple (sx, sy, sz)\n",
    "spacings = np.array(spacings)\n",
    "print(\"Mean spacing:\", spacings.mean(axis=0))\n",
    "print(\"Median spacing:\", np.median(spacings, axis=0))\n",
    "print(\"Range:\", spacings.min(axis=0), spacings.max(axis=0))\n"
   ]
  },
  {
   "cell_type": "markdown",
   "id": "81db43ca",
   "metadata": {},
   "source": [
    "## Intensities:"
   ]
  },
  {
   "cell_type": "code",
   "execution_count": null,
   "id": "8ef8b445",
   "metadata": {},
   "outputs": [],
   "source": [
    "intensity_df = pd.DataFrame(stats_list)\n",
    "plot_intensity_distribution(intensity_df)\n"
   ]
  }
 ],
 "metadata": {
  "kernelspec": {
   "display_name": "Python 3",
   "language": "python",
   "name": "python3"
  },
  "language_info": {
   "codemirror_mode": {
    "name": "ipython",
    "version": 3
   },
   "file_extension": ".py",
   "mimetype": "text/x-python",
   "name": "python",
   "nbconvert_exporter": "python",
   "pygments_lexer": "ipython3",
   "version": "3.9.13"
  }
 },
 "nbformat": 4,
 "nbformat_minor": 5
}
