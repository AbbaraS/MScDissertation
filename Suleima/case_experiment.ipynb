{
 "cells": [
  {
   "cell_type": "code",
   "execution_count": 1,
   "id": "4e3d4025",
   "metadata": {},
   "outputs": [
    {
     "name": "stderr",
     "output_type": "stream",
     "text": [
      "C:\\Users\\sulei\\AppData\\Local\\Packages\\PythonSoftwareFoundation.Python.3.9_qbz5n2kfra8p0\\LocalCache\\local-packages\\Python39\\site-packages\\requests\\__init__.py:102: RequestsDependencyWarning: urllib3 (1.26.20) or chardet (5.2.0)/charset_normalizer (2.0.12) doesn't match a supported version!\n",
      "  warnings.warn(\"urllib3 ({}) or chardet ({})/charset_normalizer ({}) doesn't match a supported \"\n"
     ]
    }
   ],
   "source": [
    "import os\n",
    "import shutil\n",
    "from pathlib import Path\n",
    "from ipywidgets import interact\n",
    "\n",
    "%load_ext autoreload\n",
    "%autoreload 2\n",
    "%reload_ext autoreload\n",
    "\n",
    "\n",
    "from core.Case import *\n",
    "from core.globals import *\n",
    "from core.Log import *\n",
    "\n",
    "\n",
    "from methods.plots import *\n",
    "from methods.preprocessing import *\n",
    "from methods.intensity import *\n",
    "from methods.slicing import *\n"
   ]
  },
  {
   "cell_type": "code",
   "execution_count": 49,
   "id": "0d29f859",
   "metadata": {},
   "outputs": [
    {
     "name": "stdout",
     "output_type": "stream",
     "text": [
      "size/shape: (328, 284, 212) -  spacing: (0.26171875, 0.26171875, 0.4)   orientation: ('L', 'A', 'S')  \n"
     ]
    }
   ],
   "source": [
    "'''\n",
    "\tfind out at what point the orientation changes from LAS to RAS\n",
    "\twhat vol.data.transpose(2,1,0) does to the shape & orientation\n",
    "'''\n",
    "#print(f\"  :  {}\")\n",
    "\n",
    "caseID = \"TTS_DEM_9902248_72F\"\n",
    "case = Case(caseID)\n",
    "vol = case.croppedCT\n",
    "is_label=F\n",
    "target_spacing=np.array([1.0]*3, dtype=np.float32)\n",
    "target_shape=(64,64,64)\n",
    "affine = vol.affine\n",
    "hu_clip=(-1000.0, 2500.0)\n",
    "resize_mode=\"resample\",  # {\"resample\",\"pad_crop\"}\n",
    "print(f\"size/shape: {vol.shape} -  spacing: {vol.spacing}   orientation: {vol.orientation}  \")\n",
    "\n"
   ]
  },
  {
   "cell_type": "code",
   "execution_count": null,
   "id": "05b93c2e",
   "metadata": {},
   "outputs": [
    {
     "name": "stdout",
     "output_type": "stream",
     "text": [
      "newsize: [86 74 85], newsize1: [85 74 84]\n",
      "Size: (86, 74, 85), Spacing: (1.0, 1.0, 1.0)\n"
     ]
    }
   ],
   "source": [
    "interp = sitk.sitkNearestNeighbor if is_label else sitk.sitkLinear\n",
    "img = sitk.GetImageFromArray(vol.data.transpose(2,1,0))\n",
    "img.SetDirection(tuple(vol.affine[:3, :3].flatten()))   \t\t\t\t# Set orientation\n",
    "img.SetOrigin(tuple(vol.affine[:3, 3]))                  \t\t\t\t# Set origin\n",
    "img.SetSpacing(tuple(np.sqrt((vol.affine[:3, :3]**2).sum(axis=0))))\n",
    "\n",
    "# --- 1) Clip HU (for CT only)\n",
    "#if not is_label:\n",
    "img = sitk.Cast(img, sitk.sitkFloat32) # ensure floating point to avoid overflow surprises on clamp\n",
    "img = sitk.Clamp(img, lowerBound=float(hu_clip[0]), upperBound=float(hu_clip[1]))\n",
    "\n",
    "# --- 2) Resample to fixed spacing (physics-aware)\n",
    "img_size = np.array(img.GetSize())\n",
    "img_spacing = np.array(img.GetSpacing())\n",
    "#resample.SetSize([int(s) for s in new_size])\n",
    "new_size1 = (img_size * (img_spacing / np.array(target_spacing))).astype(int)\n",
    "\n",
    "# derive new voxel counts to keep physical extent constant\n",
    "\n",
    "# (167, 136, 41) x (0.68, 0.68, 2.0)\n",
    "phys_size = img_size * img_spacing          # mm per axis\n",
    "new_size = np.maximum(np.round(phys_size / target_spacing), 1).astype(int)\n",
    "#print(f\"newsize: {new_size}, newsize1: {new_size1}\")  # seems minimal difference\n",
    "\n",
    "\n",
    "resample = sitk.ResampleImageFilter()\n",
    "resample.SetSize(new_size.tolist())\n",
    "resample.SetOutputSpacing(target_spacing.tolist())\n",
    "resample.SetOutputDirection(img.GetDirection())\n",
    "resample.SetOutputOrigin(img.GetOrigin())\n",
    "resample.SetInterpolator(interp)\n",
    "img = resample.Execute(img)\n",
    "print(f\"Size: {img.GetSize()}, Spacing: {img.GetSpacing()}\")\n"
   ]
  },
  {
   "cell_type": "code",
   "execution_count": 51,
   "id": "4f440e5b",
   "metadata": {},
   "outputs": [
    {
     "name": "stdout",
     "output_type": "stream",
     "text": [
      "Size: (64, 64, 64), Spacing: (1.34375, 1.15625, 1.328125)\n"
     ]
    }
   ],
   "source": [
    "# --- 3) Fix final shape to target_shape=64³\n",
    "#if tuple(img.GetSize()) != tuple(target_shape):\n",
    "#if resize_mode == \"resample\": for intensity values, not labels/masks\n",
    "# resample again to exact voxel counts, preserving physical field of view FOV\n",
    "cur_size = np.array(img.GetSize(), dtype=np.int64)\n",
    "cur_spacing = np.array(img.GetSpacing(), dtype=np.float32)\n",
    "cur_phys = cur_size * cur_spacing\n",
    "out_size = np.array(target_shape, dtype=int)\n",
    "out_spacing = (cur_phys / out_size).astype(np.float32)\n",
    "rs2 = sitk.ResampleImageFilter()\n",
    "rs2.SetSize(out_size.tolist())\n",
    "rs2.SetOutputSpacing(out_spacing.tolist())\n",
    "rs2.SetOutputDirection(img.GetDirection())\n",
    "rs2.SetOutputOrigin(img.GetOrigin())\n",
    "rs2.SetInterpolator(interp)\n",
    "img = rs2.Execute(img)\n",
    "print(f\"Size: {img.GetSize()}, Spacing: {img.GetSpacing()}\")\n",
    "\n"
   ]
  },
  {
   "cell_type": "code",
   "execution_count": null,
   "id": "e9916306",
   "metadata": {},
   "outputs": [],
   "source": [
    "#if resize_mode == \"pad_crop\":\n",
    "# symmetric pad or center-crop without further interpolation\n",
    "# (spacing unchanged; FOV changes)\n",
    "interp = sitk.sitkNearestNeighbor\n",
    "from math import floor\n",
    "def pad_to(img, target_shape):\n",
    "\tsize = np.array(img.GetSize())\n",
    "\tpad_lower = np.maximum((np.array(target_shape) - size)//2, 0)\n",
    "\tpad_upper = np.maximum(np.array(target_shape) - size - pad_lower, 0)\n",
    "\treturn sitk.ConstantPad(img,\n",
    "\t                        padList=pad_lower.tolist(),\n",
    "\t                        padUpperBound=pad_upper.tolist(),\n",
    "\t                        constant=0 if not is_label else 0)\n",
    "def crop_to(img, target_shape):\n",
    "\tsize = np.array(img.GetSize())\n",
    "\tstart = np.maximum((size - np.array(target_shape))//2, 0).astype(int)\n",
    "\textractor = sitk.RegionOfInterestImageFilter()\n",
    "\textractor.SetIndex(start.tolist())\n",
    "\textractor.SetSize(np.minimum(size, np.array(target_shape)).astype(int).tolist())\n",
    "\tout = extractor.Execute(img)\n",
    "\tif tuple(out.GetSize()) != tuple(target_shape):\n",
    "\t\tout = pad_to(out, target_shape)  # pad if we cropped too tight on an axis\n",
    "\treturn out\n",
    "# decide per axis\n",
    "size_now = np.array(img.GetSize())\n",
    "if np.any(size_now < np.array(target_shape)):\n",
    "\timg = pad_to(img, target_shape)\n",
    "if tuple(img.GetSize()) != tuple(target_shape):\n",
    "\timg = crop_to(img, target_shape)\n",
    "#else:\n",
    "#raise ValueError(\"resize_mode must be 'resample' or 'pad_crop'.\")\n"
   ]
  },
  {
   "cell_type": "code",
   "execution_count": null,
   "id": "d4cc579e",
   "metadata": {},
   "outputs": [],
   "source": [
    "caseID=\"TTS_BLT_11022191_60F\"\n",
    "case = Case(caseID)\n",
    "segs = case.resampledsegs\n",
    "path = f\"{case.casePath}/onehot_mask.nii.gz\"\n",
    "onhot = case.onehot_mask(segs, path)\n",
    "print(f\"onhot shape: {onhot.shape}, orientation: {onhot.orientation}\")\n"
   ]
  },
  {
   "cell_type": "code",
   "execution_count": null,
   "id": "c63d3193",
   "metadata": {},
   "outputs": [],
   "source": []
  },
  {
   "cell_type": "code",
   "execution_count": null,
   "id": "b71871b3",
   "metadata": {},
   "outputs": [],
   "source": [
    "'''\n",
    "[WARNING] Missing fullCT.nii.gz in CNTRL_KMC_92706_81F\n",
    "[WARNING] Missing fullCT.nii.gz in TTS_CDA_38093134_74F\n",
    "[WARNING] Missing fullCT.nii.gz in TTS_GA_39800503_22F\n",
    "[WARNING] Missing fullCT.nii.gz in TTS_LW_12109724_62F\n",
    "[WARNING] Missing fullCT.nii.gz in TTS_MA_6894703_78F\n",
    "[WARNING] Missing fullCT.nii.gz in TTS_SSA_35792472_73F\n",
    "'''\n"
   ]
  }
 ],
 "metadata": {
  "kernelspec": {
   "display_name": "Python 3",
   "language": "python",
   "name": "python3"
  },
  "language_info": {
   "codemirror_mode": {
    "name": "ipython",
    "version": 3
   },
   "file_extension": ".py",
   "mimetype": "text/x-python",
   "name": "python",
   "nbconvert_exporter": "python",
   "pygments_lexer": "ipython3",
   "version": "3.9.13"
  }
 },
 "nbformat": 4,
 "nbformat_minor": 5
}
