{
 "cells": [
  {
   "cell_type": "code",
   "execution_count": 5,
   "id": "4e3d4025",
   "metadata": {},
   "outputs": [
    {
     "name": "stdout",
     "output_type": "stream",
     "text": [
      "The autoreload extension is already loaded. To reload it, use:\n",
      "  %reload_ext autoreload\n"
     ]
    }
   ],
   "source": [
    "import os\n",
    "import shutil\n",
    "from pathlib import Path\n",
    "from ipywidgets import interact\n",
    "import numpy as np\n",
    "%load_ext autoreload\n",
    "%autoreload 2\n",
    "%reload_ext autoreload\n",
    "\n",
    "\n",
    "from core.Case import *\n",
    "from core.globals import *\n",
    "from core.Log import *\n",
    "\n",
    "\n",
    "from methods.plots import *\n",
    "from methods.preprocessing import *\n",
    "from methods.intensity import *\n",
    "from methods.slicing import *\n"
   ]
  },
  {
   "cell_type": "code",
   "execution_count": null,
   "id": "abb5ae23",
   "metadata": {},
   "outputs": [],
   "source": [
    "def resample(case: Case):\n",
    "\tif case.resampledCT is None:\n",
    "\t\tcroppedCT = case.croppedCT\n",
    "\t\tpath=os.path.join(case.casePath, \"resampledCT.nii.gz\")\n",
    "\t\t_ = size_resample(croppedCT, path)\n",
    "\n",
    "def show_volume(vol, title=None):\n",
    "\tif vol is not None:\n",
    "\t\tmsg = f\"{title} {vol.shape}, {vol.spacing}, {vol.origin}\"\n",
    "\t\t#return msg\n",
    "\t\tprint(msg)\n"
   ]
  },
  {
   "cell_type": "code",
   "execution_count": 10,
   "id": "0922c922",
   "metadata": {},
   "outputs": [
    {
     "name": "stdout",
     "output_type": "stream",
     "text": [
      "Size: (145, 105, 132), Spacing: (1.0, 1.0, 1.0)\n",
      "cur_spacing: [1. 1. 1.], out_spacing: [2.265625 1.640625 2.0625  ]\n",
      "fullCT (512, 512, 311), (0.738281, 0.738281, 1.0), [ 201.26913452 -194.16784668 -236.8125    ]\n",
      "croppedCT (196, 142, 132), (0.738281, 0.738281, 1.0), [ 201.26913452 -194.16784668 -236.8125    ]\n"
     ]
    }
   ],
   "source": [
    "caseID=\"TTS_BLT_11022191_60F\"\n",
    "case = Case(caseID)\n",
    "resample(case)\n",
    "\n",
    "'''\n",
    "LVtotalseg\n",
    "LAtotalseg\n",
    "RVtotalseg\n",
    "RAtotalseg\n",
    "MYOtotalseg\n",
    "'''\n",
    "show_volume(case.fullCT, \"fullCT\")\n",
    "#show_volume(case.totalsegLV,  \"LVtotalseg\")\n",
    "#show_volume(case.totalsegLA,  \"LAtotalseg\")\n",
    "#show_volume(case.totalsegRV,  \"RVtotalseg\")\n",
    "#show_volume(case.totalsegRA,  \"RAtotalseg\")\n",
    "#show_volume(case.totalsegMYO, \"MYOtotalseg\")\n",
    "#\n",
    "show_volume(case.croppedCT,  \"croppedCT\")\n",
    "#show_volume(case.croppedLV,  \"croppedLV\")\n",
    "#show_volume(case.croppedLA,  \"croppedLA\")\n",
    "#show_volume(case.croppedRV,  \"croppedRV\")\n",
    "#show_volume(case.croppedRA,  \"croppedRA\")\n",
    "#show_volume(case.croppedMYO, \"croppedMYO\")\n",
    "\n",
    "show_volume(case.resampledCT,  \"resampledCT\")\n",
    "#show_volume(case.resampledLV,  \"resampledLV\")\n",
    "#show_volume(case.resampledLA,  \"resampledLA\")\n",
    "#show_volume(case.resampledRV,  \"resampledRV\")\n",
    "#show_volume(case.resampledRA,  \"resampledRA\")\n",
    "#show_volume(case.resampledMYO, \"resampledMYO\")\n"
   ]
  },
  {
   "cell_type": "code",
   "execution_count": null,
   "id": "d4cc579e",
   "metadata": {},
   "outputs": [],
   "source": [
    "caseID=\"TTS_BLT_11022191_60F\"\n",
    "case = Case(caseID)\n",
    "segs = case.resampledsegs\n",
    "path = f\"{case.casePath}/onehot_mask.nii.gz\"\n",
    "onhot = case.onehot_mask(segs, path)\n",
    "print(f\"onhot shape: {onhot.shape}, orientation: {onhot.orientation}\")\n"
   ]
  },
  {
   "cell_type": "code",
   "execution_count": null,
   "id": "b71871b3",
   "metadata": {},
   "outputs": [],
   "source": [
    "'''\n",
    "[WARNING] Missing fullCT.nii.gz in CNTRL_KMC_92706_81F\n",
    "[WARNING] Missing fullCT.nii.gz in TTS_CDA_38093134_74F\n",
    "[WARNING] Missing fullCT.nii.gz in TTS_GA_39800503_22F\n",
    "[WARNING] Missing fullCT.nii.gz in TTS_LW_12109724_62F\n",
    "[WARNING] Missing fullCT.nii.gz in TTS_MA_6894703_78F\n",
    "[WARNING] Missing fullCT.nii.gz in TTS_SSA_35792472_73F\n",
    "'''\n"
   ]
  }
 ],
 "metadata": {
  "kernelspec": {
   "display_name": "Python 3",
   "language": "python",
   "name": "python3"
  },
  "language_info": {
   "codemirror_mode": {
    "name": "ipython",
    "version": 3
   },
   "file_extension": ".py",
   "mimetype": "text/x-python",
   "name": "python",
   "nbconvert_exporter": "python",
   "pygments_lexer": "ipython3",
   "version": "3.9.13"
  }
 },
 "nbformat": 4,
 "nbformat_minor": 5
}
