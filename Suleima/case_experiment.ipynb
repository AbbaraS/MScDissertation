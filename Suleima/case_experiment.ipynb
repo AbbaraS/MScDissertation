{
 "cells": [
  {
   "cell_type": "code",
   "execution_count": 1,
   "id": "4e3d4025",
   "metadata": {},
   "outputs": [
    {
     "name": "stderr",
     "output_type": "stream",
     "text": [
      "C:\\Users\\sulei\\AppData\\Local\\Packages\\PythonSoftwareFoundation.Python.3.9_qbz5n2kfra8p0\\LocalCache\\local-packages\\Python39\\site-packages\\requests\\__init__.py:102: RequestsDependencyWarning: urllib3 (1.26.20) or chardet (5.2.0)/charset_normalizer (2.0.12) doesn't match a supported version!\n",
      "  warnings.warn(\"urllib3 ({}) or chardet ({})/charset_normalizer ({}) doesn't match a supported \"\n"
     ]
    }
   ],
   "source": [
    "import os\n",
    "import shutil\n",
    "from pathlib import Path\n",
    "from ipywidgets import interact\n",
    "\n",
    "%load_ext autoreload\n",
    "%autoreload 2\n",
    "%reload_ext autoreload\n",
    "\n",
    "\n",
    "from core.Case import *\n",
    "from core.globals import *\n",
    "from core.Log import *\n",
    "\n",
    "\n",
    "from methods.plots import *\n",
    "from methods.preprocessing import *\n",
    "from methods.intensity import *\n",
    "from methods.slicing import *\n"
   ]
  },
  {
   "cell_type": "code",
   "execution_count": null,
   "id": "0d29f859",
   "metadata": {},
   "outputs": [],
   "source": [
    "'''\n",
    "\tfind out at what point the orientation changes from LAS to RAS\n",
    "\twhat vol.data.transpose(2,1,0) does to the shape & orientation\n",
    "'''\n",
    "#print(f\"  :  {}\")\n",
    "\n",
    "caseID = \"CNTRL_BJB_42898_78F\"\n",
    "case = Case(caseID)\n",
    "vol = case.croppedCT\n",
    "linear=F\n",
    "spacing=[1.0]*3\n",
    "shape=(64,64,64)\n",
    "affine = vol.affine\n",
    "\n",
    "#print(f\"vol.shape: {vol.shape}, \\norigin: {vol.origin}, \\nspacing: {vol.spacing}\")\n"
   ]
  },
  {
   "cell_type": "code",
   "execution_count": 27,
   "id": "3dee11e7",
   "metadata": {},
   "outputs": [
    {
     "name": "stdout",
     "output_type": "stream",
     "text": [
      "vol.spacing: (0.68, 0.68, 2.0)\n",
      "img.GetDirection(): (-0.6800000071525574, 0.0, 0.0, 0.0, 0.6800000071525574, 0.0, 0.0, 0.0, 2.0), \n",
      "img.GetOrigin(): (169.97219848632812, -173.60159301757812, 1514.5), \n",
      "img.GetSpacing(): (0.6800000071525574, 0.6800000071525574, 2.0)\n"
     ]
    }
   ],
   "source": [
    "\n",
    "img = sitk.GetImageFromArray(vol.data.transpose(2,1,0))\n",
    "#print(f\"cropped.shape XYZ: {croopedshape}, \\norigin: {vol.origin}, \\nspacing: {vol.spacing}\")\n",
    "#print(f\"img.GetSize():  {img.GetSize()} - img shape matches CT\")\n",
    "#print(f\"img.GetDirection(): {img.GetDirection()}, img.GetOrigin(): {img.GetOrigin()}, img.GetSpacing(): {img.GetSpacing()}\")\n",
    "#print(f\" ct affine :  {affine}\")\n",
    "'''\n",
    "img.GetDirection() is RAS, not LAS.\n",
    "X: [i, _, _] -->  [+1, 0, 0] --> R ---> [-1, 0, 0] ---> L\n",
    "Y: [_, i, _] -->  [0, +1, 0] --> A\n",
    "Z: [_, _, i] -->  [0, 0, +1] --> S\n",
    "'''\n",
    "print(f\"vol.spacing: {vol.spacing}\")\n",
    "#print(tuple(np.sqrt((vol.affine[:3, :3]**2).sum(axis=0))))\n",
    "img = sitk.GetImageFromArray(vol.data.transpose(2,1,0))\n",
    "img.SetDirection(tuple(vol.affine[:3, :3].flatten()))   \t\t\t\t# Set orientation\n",
    "img.SetOrigin(tuple(vol.affine[:3, 3]))                  \t\t\t\t# Set origin\n",
    "img.SetSpacing(tuple(np.sqrt((vol.affine[:3, :3]**2).sum(axis=0))))\n",
    "print(f\"img.GetDirection(): {img.GetDirection()}, \\nimg.GetOrigin(): {img.GetOrigin()}, \\nimg.GetSpacing(): {img.GetSpacing()}\")\n"
   ]
  },
  {
   "cell_type": "code",
   "execution_count": null,
   "id": "ddcd82f9",
   "metadata": {},
   "outputs": [],
   "source": [
    "img = sitk.GetImageFromArray(vol.data.transpose(2,1,0))\n",
    "img.SetDirection(tuple(vol.affine[:3, :3].flatten()))   \t\t\t\t# Set orientation\n",
    "img.SetOrigin(tuple(vol.affine[:3, 3]))                  \t\t\t\t# Set origin\n",
    "img.SetSpacing(tuple(np.sqrt((vol.affine[:3, :3]**2).sum(axis=0))))\n",
    "\n",
    "\n",
    "img_size = np.array(img.GetSize())\n",
    "img_spacing = np.array(img.GetSpacing())\n",
    "\n",
    "resample = sitk.ResampleImageFilter()\n",
    "resample.SetInterpolator(sitk.sitkLinear if linear else sitk.sitkNearestNeighbor)\n",
    "\n",
    "resample.SetSize(np.round(img_size * (img_spacing / np.array(spacing))).astype(int).tolist())\n",
    "resample.SetOutputSpacing(spacing)\n",
    "resample.SetOutputDirection(img.GetDirection())\n",
    "resample.SetOutputOrigin(img.GetOrigin())\n",
    "\n",
    "resam_img = resample.Execute(img)\n",
    "arr = sitk.GetArrayFromImage(resam_img).transpose(2,1,0)\n"
   ]
  },
  {
   "cell_type": "code",
   "execution_count": null,
   "id": "18fbedb0",
   "metadata": {},
   "outputs": [
    {
     "name": "stdout",
     "output_type": "stream",
     "text": [
      "vol.shape: (167, 136, 41), resam_img.GetSize(): (114, 92, 82), arr.shape: (114, 92, 82)\n"
     ]
    }
   ],
   "source": [
    "print(f\"vol.shape: {vol.shape}, resam_img.GetSize(): {resam_img.GetSize()}, arr.shape: {arr.shape}\")\n"
   ]
  },
  {
   "cell_type": "code",
   "execution_count": null,
   "id": "28699958",
   "metadata": {},
   "outputs": [
    {
     "data": {
      "text/plain": [
       "(114, 92, 82)"
      ]
     },
     "execution_count": 29,
     "metadata": {},
     "output_type": "execute_result"
    }
   ],
   "source": [
    "'''\n",
    "vol.shape  ===> (167, 136, 41)\n",
    "resam_img.shape ==> (114, 92, 82)\n",
    "arr.shape ==> (114, 92, 82)\n",
    "'''\n"
   ]
  },
  {
   "cell_type": "code",
   "execution_count": null,
   "id": "af8f1126",
   "metadata": {},
   "outputs": [],
   "source": [
    "reshaped_arr = scipy.ndimage.zoom(\n",
    "\t\t\tarr,\n",
    "\t\t\t[t/s for t, s in zip(shape, arr.shape)], \t# Computes the scaling factor for each axis\n",
    "\t\t\torder=1 if linear else 0)                \t# order=1: linear interpolation -> smoothing, for continuous data like CT intensities\n",
    "\t\t\t\t\t\t\t\t\t\t\t\t\t \t# order=0: nearest-neighbor interpolation -> no smoothing, for discrete labels/masks\n"
   ]
  },
  {
   "cell_type": "code",
   "execution_count": null,
   "id": "1e3e8b04",
   "metadata": {},
   "outputs": [
    {
     "name": "stdout",
     "output_type": "stream",
     "text": [
      "resampled shape: (114, 92, 82) - img.GetSize(): (114, 92, 82)\n",
      "resampled orientation: [[-0.68000001  0.          0.        ]\n",
      " [ 0.          0.68000001  0.        ]\n",
      " [ 0.          0.          2.        ]]\n"
     ]
    }
   ],
   "source": [
    "'''\n",
    "If shape = (64, 64, 64) and arr.shape = (114, 92, 82)\n",
    "factors = [64/114, 64/92, 64/82]\n",
    "'''\n",
    "interp = sitk.sitkLinear if linear else sitk.sitkNearestNeighbor\n",
    "\n",
    "img_size = np.array(img.GetSize())\n",
    "img_spacing = np.array(img.GetSpacing())\n",
    "\n",
    "resample = sitk.ResampleImageFilter()\n",
    "resample.SetInterpolator(sitk.sitkLinear if linear else sitk.sitkNearestNeighbor)\n",
    "\n",
    "resample.SetSize(np.round(img_size * (img_spacing / np.array(spacing))).astype(int).tolist())\n",
    "resample.SetOutputSpacing(spacing)\n",
    "resample.SetOutputDirection(img.GetDirection())\n",
    "resample.SetOutputOrigin(img.GetOrigin())\n",
    "\n",
    "new_img = resample.Execute(img)\n",
    "arr = sitk.GetArrayFromImage(new_img).transpose(2,1,0) #shape: (114, 92, 82)\n",
    "arr = scipy.ndimage.zoom(\n",
    "\t\t\tarr,\n",
    "\t\t\t[t/s for t, s in zip(shape, arr.shape)], # Computes the scaling factor for each axis\n",
    "\t\t\torder=1 if linear else 0)\n",
    "\n",
    "\n",
    "affine = np.eye(4)\n",
    "affine[:3, :3] = np.array(new_img.GetDirection()).reshape(3,3) * np.array(new_img.GetSpacing())[:, None]\n",
    "affine[:3, 3] = new_img.GetOrigin()\n",
    "print(f\"resampled orientation: {affine[:3, :3]}\")\n"
   ]
  },
  {
   "cell_type": "code",
   "execution_count": null,
   "id": "d4cc579e",
   "metadata": {},
   "outputs": [],
   "source": [
    "caseID=\"TTS_BLT_11022191_60F\"\n",
    "case = Case(caseID)\n",
    "segs = case.resampledsegs\n",
    "path = f\"{case.casePath}/onehot_mask.nii.gz\"\n",
    "onhot = case.onehot_mask(segs, path)\n",
    "print(f\"onhot shape: {onhot.shape}, orientation: {onhot.orientation}\")\n"
   ]
  },
  {
   "cell_type": "code",
   "execution_count": null,
   "id": "c63d3193",
   "metadata": {},
   "outputs": [],
   "source": []
  },
  {
   "cell_type": "code",
   "execution_count": null,
   "id": "b71871b3",
   "metadata": {},
   "outputs": [],
   "source": [
    "'''\n",
    "[WARNING] Missing fullCT.nii.gz in CNTRL_KMC_92706_81F\n",
    "[WARNING] Missing fullCT.nii.gz in TTS_CDA_38093134_74F\n",
    "[WARNING] Missing fullCT.nii.gz in TTS_GA_39800503_22F\n",
    "[WARNING] Missing fullCT.nii.gz in TTS_LW_12109724_62F\n",
    "[WARNING] Missing fullCT.nii.gz in TTS_MA_6894703_78F\n",
    "[WARNING] Missing fullCT.nii.gz in TTS_SSA_35792472_73F\n",
    "'''\n"
   ]
  }
 ],
 "metadata": {
  "kernelspec": {
   "display_name": "Python 3",
   "language": "python",
   "name": "python3"
  },
  "language_info": {
   "codemirror_mode": {
    "name": "ipython",
    "version": 3
   },
   "file_extension": ".py",
   "mimetype": "text/x-python",
   "name": "python",
   "nbconvert_exporter": "python",
   "pygments_lexer": "ipython3",
   "version": "3.9.13"
  }
 },
 "nbformat": 4,
 "nbformat_minor": 5
}
