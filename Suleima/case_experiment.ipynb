{
 "cells": [
  {
   "cell_type": "code",
   "execution_count": null,
   "id": "4e3d4025",
   "metadata": {},
   "outputs": [
    {
     "name": "stderr",
     "output_type": "stream",
     "text": [
      "C:\\Users\\sulei\\AppData\\Local\\Packages\\PythonSoftwareFoundation.Python.3.9_qbz5n2kfra8p0\\LocalCache\\local-packages\\Python39\\site-packages\\requests\\__init__.py:102: RequestsDependencyWarning: urllib3 (1.26.20) or chardet (5.2.0)/charset_normalizer (2.0.12) doesn't match a supported version!\n",
      "  warnings.warn(\"urllib3 ({}) or chardet ({})/charset_normalizer ({}) doesn't match a supported \"\n"
     ]
    }
   ],
   "source": [
    "import os\n",
    "import shutil\n",
    "from pathlib import Path\n",
    "from ipywidgets import interact\n",
    "import numpy as np\n",
    "%load_ext autoreload\n",
    "%autoreload 2\n",
    "%reload_ext autoreload\n",
    "\n",
    "\n",
    "from core.Case import *\n",
    "from core.globals import *\n",
    "from core.Log import *\n",
    "\n",
    "\n",
    "from methods.plots import *\n",
    "from methods.preprocessing import *\n",
    "from methods.intensity import *\n",
    "from methods.slicing import *\n"
   ]
  },
  {
   "cell_type": "code",
   "execution_count": null,
   "id": "abb5ae23",
   "metadata": {},
   "outputs": [],
   "source": [
    "def resample(case: Case):\n",
    "\tif case.resampledCT is None:\n",
    "\t\tcroppedCT = case.croppedCT\n",
    "\t\timg = resample_shape(croppedCT)\n"
   ]
  },
  {
   "cell_type": "code",
   "execution_count": 56,
   "id": "0922c922",
   "metadata": {},
   "outputs": [
    {
     "name": "stdout",
     "output_type": "stream",
     "text": [
      "full CT (512, 512, 311), (0.738281, 0.738281, 1.0), [ 201.26913452 -194.16784668 -236.8125    ]\n",
      "LVtotalseg (512, 512, 311), (0.738281, 0.738281, 1.0), [ 201.26913452 -194.16784668 -236.8125    ]\n",
      "LAtotalseg (512, 512, 311), (0.738281, 0.738281, 1.0), [ 201.26913452 -194.16784668 -236.8125    ]\n",
      "RVtotalseg (512, 512, 311), (0.738281, 0.738281, 1.0), [ 201.26913452 -194.16784668 -236.8125    ]\n",
      "RAtotalseg (512, 512, 311), (0.738281, 0.738281, 1.0), [ 201.26913452 -194.16784668 -236.8125    ]\n",
      "MYOtotalseg (512, 512, 311), (0.738281, 0.738281, 1.0), [ 201.26913452 -194.16784668 -236.8125    ]\n"
     ]
    }
   ],
   "source": [
    "caseID=\"TTS_BLT_11022191_60F\"\n",
    "case = Case(caseID)\n",
    "\n",
    "def show_volume(vol, title=None):\n",
    "\tif vol is not None:\n",
    "\t\tmsg = f\"{title} {vol.shape}, {vol.spacing}, {vol.origin}\"\n",
    "\t\t#return msg\n",
    "\t\tprint(msg)\n",
    "'''\n",
    "LVtotalseg\n",
    "LAtotalseg\n",
    "RVtotalseg\n",
    "RAtotalseg\n",
    "MYOtotalseg\n",
    "'''\n",
    "show_volume(case.fullCT, \"full CT\")\n",
    "show_volume(case.LVtotalseg, \"LVtotalseg\")\n",
    "show_volume(case.LAtotalseg, \"LAtotalseg\")\n",
    "show_volume(case.RVtotalseg, \"RVtotalseg\")\n",
    "show_volume(case.RAtotalseg, \"RAtotalseg\")\n",
    "show_volume(case.MYOtotalseg, \"MYOtotalseg\")\n",
    "\n"
   ]
  },
  {
   "cell_type": "code",
   "execution_count": null,
   "id": "d4cc579e",
   "metadata": {},
   "outputs": [],
   "source": [
    "caseID=\"TTS_BLT_11022191_60F\"\n",
    "case = Case(caseID)\n",
    "segs = case.resampledsegs\n",
    "path = f\"{case.casePath}/onehot_mask.nii.gz\"\n",
    "onhot = case.onehot_mask(segs, path)\n",
    "print(f\"onhot shape: {onhot.shape}, orientation: {onhot.orientation}\")\n"
   ]
  },
  {
   "cell_type": "code",
   "execution_count": null,
   "id": "b71871b3",
   "metadata": {},
   "outputs": [],
   "source": [
    "'''\n",
    "[WARNING] Missing fullCT.nii.gz in CNTRL_KMC_92706_81F\n",
    "[WARNING] Missing fullCT.nii.gz in TTS_CDA_38093134_74F\n",
    "[WARNING] Missing fullCT.nii.gz in TTS_GA_39800503_22F\n",
    "[WARNING] Missing fullCT.nii.gz in TTS_LW_12109724_62F\n",
    "[WARNING] Missing fullCT.nii.gz in TTS_MA_6894703_78F\n",
    "[WARNING] Missing fullCT.nii.gz in TTS_SSA_35792472_73F\n",
    "'''\n"
   ]
  }
 ],
 "metadata": {
  "kernelspec": {
   "display_name": "Python 3",
   "language": "python",
   "name": "python3"
  },
  "language_info": {
   "codemirror_mode": {
    "name": "ipython",
    "version": 3
   },
   "file_extension": ".py",
   "mimetype": "text/x-python",
   "name": "python",
   "nbconvert_exporter": "python",
   "pygments_lexer": "ipython3",
   "version": "3.9.13"
  }
 },
 "nbformat": 4,
 "nbformat_minor": 5
}
