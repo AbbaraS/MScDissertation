{
 "cells": [
  {
   "cell_type": "markdown",
   "metadata": {
    "id": "FXg6xkknocAN"
   },
   "source": [
    "# preprocessing"
   ]
  },
  {
   "cell_type": "code",
   "execution_count": 5,
   "metadata": {
    "executionInfo": {
     "elapsed": 9997,
     "status": "ok",
     "timestamp": 1750266233237,
     "user": {
      "displayName": "Suleima Abbara",
      "userId": "14828564328046575647"
     },
     "user_tz": -60
    },
    "id": "H6Gjw-twoYjf"
   },
   "outputs": [
    {
     "name": "stdout",
     "output_type": "stream",
     "text": [
      "The autoreload extension is already loaded. To reload it, use:\n",
      "  %reload_ext autoreload\n"
     ]
    }
   ],
   "source": [
    "%load_ext autoreload\n",
    "%autoreload 2\n",
    "%reload_ext autoreload\n",
    "\n",
    "from utils import process_case, update_info_csv"
   ]
  },
  {
   "cell_type": "code",
   "execution_count": 6,
   "metadata": {
    "executionInfo": {
     "elapsed": 5,
     "status": "ok",
     "timestamp": 1750249989881,
     "user": {
      "displayName": "Suleima Abbara",
      "userId": "14828564328046575647"
     },
     "user_tz": -60
    },
    "id": "0ASwELR3uZJg"
   },
   "outputs": [],
   "source": [
    "normal='normal_cases'\n",
    "tako='takotsubo_cases'\n",
    "\n",
    "NORMAL=normal\n",
    "TAKO=tako\n",
    "\n",
    "# folder paths in Colab\n",
    "base_dicom_root = f\"drive/MyDrive/Thesis/Awab/Takotsubo-Syndrome/data/Inputs\"\n",
    "base_input_root = f\"drive/MyDrive/Thesis/Suleima/data/Inputs\"\n",
    "base_output_root = f\"drive/MyDrive/Thesis/Suleima/data/Outputs\""
   ]
  },
  {
   "cell_type": "markdown",
   "metadata": {
    "id": "Ptf9zrXk1Cbx"
   },
   "source": [
    "# Segment, Crop, Trim, Resample, & Select Slices"
   ]
  },
  {
   "cell_type": "code",
   "execution_count": null,
   "metadata": {},
   "outputs": [],
   "source": [
    "process_case(NORMAL)\n",
    "process_case(TAKO) "
   ]
  },
  {
   "cell_type": "markdown",
   "metadata": {},
   "source": [
    "# update metadata"
   ]
  },
  {
   "cell_type": "code",
   "execution_count": 3,
   "metadata": {},
   "outputs": [
    {
     "name": "stderr",
     "output_type": "stream",
     "text": [
      "c:\\Users\\sulei\\source\\Dissertation\\Suleima\\utils.py:1183: FutureWarning: Setting an item of incompatible dtype is deprecated and will raise an error in a future version of pandas. Value '(512, 512, 69)' has dtype incompatible with float64, please explicitly cast to a compatible dtype first.\n",
      "  df.at[idx, \"Original_Shape\"] = str(orig_img.shape)\n",
      "c:\\Users\\sulei\\source\\Dissertation\\Suleima\\utils.py:1184: FutureWarning: Setting an item of incompatible dtype is deprecated and will raise an error in a future version of pandas. Value '(0.729, 0.729, 2.0)' has dtype incompatible with float64, please explicitly cast to a compatible dtype first.\n",
      "  df.at[idx, \"Original_Spacing\"] = str(tuple(round(s, 3) for s in orig_img.header.get_zooms()))\n",
      "c:\\Users\\sulei\\source\\Dissertation\\Suleima\\utils.py:1185: FutureWarning: Setting an item of incompatible dtype is deprecated and will raise an error in a future version of pandas. Value '('L', 'A', 'S')' has dtype incompatible with float64, please explicitly cast to a compatible dtype first.\n",
      "  df.at[idx, \"Original_Orientation\"] = str(aff2axcodes(orig_img.affine))\n",
      "c:\\Users\\sulei\\source\\Dissertation\\Suleima\\utils.py:1186: FutureWarning: Setting an item of incompatible dtype is deprecated and will raise an error in a future version of pandas. Value '(180.136, -39.636, -169.75)' has dtype incompatible with float64, please explicitly cast to a compatible dtype first.\n",
      "  df.at[idx, \"Origin\"] = str(tuple(round(s, 3) for s in orig_img.affine[:3, 3]))\n",
      "c:\\Users\\sulei\\source\\Dissertation\\Suleima\\utils.py:1194: FutureWarning: Setting an item of incompatible dtype is deprecated and will raise an error in a future version of pandas. Value '(64, 64, 64)' has dtype incompatible with float64, please explicitly cast to a compatible dtype first.\n",
      "  df.at[idx, \"New_Shape\"] = \"(64, 64, 64)\"\n",
      "c:\\Users\\sulei\\source\\Dissertation\\Suleima\\utils.py:1195: FutureWarning: Setting an item of incompatible dtype is deprecated and will raise an error in a future version of pandas. Value '(1.0, 1.0, 1.0)' has dtype incompatible with float64, please explicitly cast to a compatible dtype first.\n",
      "  df.at[idx, \"New_Spacing\"] = \"(1.0, 1.0, 1.0)\"\n",
      "c:\\Users\\sulei\\source\\Dissertation\\Suleima\\utils.py:1196: FutureWarning: Setting an item of incompatible dtype is deprecated and will raise an error in a future version of pandas. Value '('R', 'A', 'S')' has dtype incompatible with float64, please explicitly cast to a compatible dtype first.\n",
      "  df.at[idx, \"New_Orientation\"] = \"('R', 'A', 'S')\"\n"
     ]
    },
    {
     "name": "stdout",
     "output_type": "stream",
     "text": [
      "Metadata CSV saved at: data/CSVs/takotsubo_cases_info.csv\n"
     ]
    },
    {
     "name": "stderr",
     "output_type": "stream",
     "text": [
      "c:\\Users\\sulei\\source\\Dissertation\\Suleima\\utils.py:1183: FutureWarning: Setting an item of incompatible dtype is deprecated and will raise an error in a future version of pandas. Value '(512, 512, 230)' has dtype incompatible with float64, please explicitly cast to a compatible dtype first.\n",
      "  df.at[idx, \"Original_Shape\"] = str(orig_img.shape)\n",
      "c:\\Users\\sulei\\source\\Dissertation\\Suleima\\utils.py:1184: FutureWarning: Setting an item of incompatible dtype is deprecated and will raise an error in a future version of pandas. Value '(0.781, 0.781, 2.5)' has dtype incompatible with float64, please explicitly cast to a compatible dtype first.\n",
      "  df.at[idx, \"Original_Spacing\"] = str(tuple(round(s, 3) for s in orig_img.header.get_zooms()))\n",
      "c:\\Users\\sulei\\source\\Dissertation\\Suleima\\utils.py:1185: FutureWarning: Setting an item of incompatible dtype is deprecated and will raise an error in a future version of pandas. Value '('L', 'A', 'S')' has dtype incompatible with float64, please explicitly cast to a compatible dtype first.\n",
      "  df.at[idx, \"Original_Orientation\"] = str(aff2axcodes(orig_img.affine))\n",
      "c:\\Users\\sulei\\source\\Dissertation\\Suleima\\utils.py:1186: FutureWarning: Setting an item of incompatible dtype is deprecated and will raise an error in a future version of pandas. Value '(193.09, -246.624, -608.202)' has dtype incompatible with float64, please explicitly cast to a compatible dtype first.\n",
      "  df.at[idx, \"Origin\"] = str(tuple(round(s, 3) for s in orig_img.affine[:3, 3]))\n",
      "c:\\Users\\sulei\\source\\Dissertation\\Suleima\\utils.py:1194: FutureWarning: Setting an item of incompatible dtype is deprecated and will raise an error in a future version of pandas. Value '(64, 64, 64)' has dtype incompatible with float64, please explicitly cast to a compatible dtype first.\n",
      "  df.at[idx, \"New_Shape\"] = \"(64, 64, 64)\"\n",
      "c:\\Users\\sulei\\source\\Dissertation\\Suleima\\utils.py:1195: FutureWarning: Setting an item of incompatible dtype is deprecated and will raise an error in a future version of pandas. Value '(1.0, 1.0, 1.0)' has dtype incompatible with float64, please explicitly cast to a compatible dtype first.\n",
      "  df.at[idx, \"New_Spacing\"] = \"(1.0, 1.0, 1.0)\"\n",
      "c:\\Users\\sulei\\source\\Dissertation\\Suleima\\utils.py:1196: FutureWarning: Setting an item of incompatible dtype is deprecated and will raise an error in a future version of pandas. Value '('R', 'A', 'S')' has dtype incompatible with float64, please explicitly cast to a compatible dtype first.\n",
      "  df.at[idx, \"New_Orientation\"] = \"('R', 'A', 'S')\"\n"
     ]
    },
    {
     "name": "stdout",
     "output_type": "stream",
     "text": [
      "Metadata CSV saved at: data/CSVs/normal_cases_info.csv\n"
     ]
    }
   ],
   "source": [
    "update_info_csv(TAKO)\n",
    "update_info_csv(NORMAL)"
   ]
  }
 ],
 "metadata": {
  "accelerator": "GPU",
  "colab": {
   "authorship_tag": "ABX9TyNmoM2VTW1+Yn2jESmszIVz",
   "gpuType": "A100",
   "provenance": []
  },
  "kernelspec": {
   "display_name": "Python 3",
   "name": "python3"
  },
  "language_info": {
   "codemirror_mode": {
    "name": "ipython",
    "version": 3
   },
   "file_extension": ".py",
   "mimetype": "text/x-python",
   "name": "python",
   "nbconvert_exporter": "python",
   "pygments_lexer": "ipython3",
   "version": "3.9.13"
  }
 },
 "nbformat": 4,
 "nbformat_minor": 0
}
