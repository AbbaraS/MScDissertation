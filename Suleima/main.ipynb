{
 "cells": [
  {
   "cell_type": "code",
   "execution_count": 49,
   "id": "35cf9863",
   "metadata": {},
   "outputs": [
    {
     "name": "stdout",
     "output_type": "stream",
     "text": [
      "The autoreload extension is already loaded. To reload it, use:\n",
      "  %reload_ext autoreload\n"
     ]
    }
   ],
   "source": [
    "import os\n",
    "\n",
    "\n",
    "%load_ext autoreload\n",
    "%autoreload 2\n",
    "%reload_ext autoreload\n",
    "\n",
    "from core import *\n",
    "from core.Case import *\n",
    "from ipywidgets import interact\n",
    "from methods.plots import *\n",
    "#from methods.cropping import *\n",
    "#from methods.segmenting import segmenting_volumes\n",
    "\n",
    "CNTRL_dicom_root = \"../Takotsubo-Syndrome/data/Inputs/normal_cases/\"\n",
    "TTS_dicom_root = \"../Takotsubo-Syndrome/data/Inputs/takotsubo_cases/\"\n",
    "root_dir = \"data/cases/\"\n",
    "\n"
   ]
  },
  {
   "cell_type": "code",
   "execution_count": 50,
   "id": "74a31061",
   "metadata": {},
   "outputs": [
    {
     "name": "stdout",
     "output_type": "stream",
     "text": [
      "[2025-08-06 23:13:58] Loaded fullCT.nii.gz: shape=(512, 512, 230), spacing=(0.78125, 0.7812501, 2.5000005)\n",
      "Processing case: CNTRL_AAP_50415783_61F\n",
      "[2025-08-06 23:13:58] Cropped volumes exist. Skipping cropping.\n",
      "[2025-08-06 23:13:58] Loaded croppedCT.nii.gz: shape=(170, 123, 30), spacing=(0.78125, 0.7812501, 2.5000005)\n",
      "[2025-08-06 23:13:58] Loaded cropped/heart_mask.nii.gz: shape=(170, 123, 30), spacing=(0.78125, 0.7812501, 2.5000005)\n",
      "[2025-08-06 23:13:58] No empty slices to trim.\n",
      "[2025-08-06 23:13:58] Resampled volumes exist. Skipping resampling.\n",
      "[2025-08-06 23:13:58] Loaded resampledCT.nii.gz: shape=(64, 64, 64), spacing=(1.0, 1.0, 1.0)\n",
      "[2025-08-06 23:13:58] Loaded resampled/heart_mask.nii.gz: shape=(64, 64, 64), spacing=(1.0, 1.0, 1.0)\n"
     ]
    }
   ],
   "source": [
    "root_dir = \"data/cases/\"\n",
    "for caseID in os.listdir(root_dir):\n",
    "\tif caseID.startswith('.'):\n",
    "\t\tcontinue\n",
    "\tcase = CardiacCT(caseID)\n",
    "\n",
    "\t\n",
    "\n",
    "\tif case.fullCT is None:\n",
    "\t\tcontinue\n",
    "\t\t\n",
    "\t\t# TO DO - get dicom path\n",
    "\t\t# dicom2nifti.convert_dicom.dicom_series_to_nifti(dicom_dir, os.path.join(patient_dir, \"OG_CT.nii.gz\"),)\n",
    "\t\n",
    "\t#segmenting_volumes(case)\n",
    "\t\n",
    "\tprint(f\"Processing case: {caseID}\")\n",
    "\tcase.crop_pipeline()\n",
    "\tcase.trim_empty_slices()\n",
    "\tcase.resample_pipeline()\n",
    "\n",
    "\tbreak\n",
    "\t"
   ]
  },
  {
   "cell_type": "code",
   "execution_count": null,
   "id": "a3f0dca8",
   "metadata": {},
   "outputs": [
    {
     "data": {
      "application/vnd.jupyter.widget-view+json": {
       "model_id": "7f06d76d2a9a49f4b8ee5930828e7dbf",
       "version_major": 2,
       "version_minor": 0
      },
      "text/plain": [
       "interactive(children=(IntSlider(value=14, description='slice_index', max=29), Output()), _dom_classes=('widget…"
      ]
     },
     "metadata": {},
     "output_type": "display_data"
    }
   ],
   "source": [
    "lv = case.croppedsegs[\"LV\"]\n",
    "ct = case.croppedCT\n",
    "\n",
    "scrollable_ct_mask(ct, lv) "
   ]
  },
  {
   "cell_type": "code",
   "execution_count": 55,
   "id": "2c7aa927",
   "metadata": {},
   "outputs": [
    {
     "data": {
      "application/vnd.jupyter.widget-view+json": {
       "model_id": "4fc3879c5db24320bd0c51afb511ee8b",
       "version_major": 2,
       "version_minor": 0
      },
      "text/plain": [
       "interactive(children=(IntSlider(value=31, description='slice_index', max=63), Output()), _dom_classes=('widget…"
      ]
     },
     "metadata": {},
     "output_type": "display_data"
    }
   ],
   "source": [
    "lv = case.resampledsegs[\"LV\"]\n",
    "ct = case.resampledCT\n",
    "\n",
    "scrollable_ct_mask(ct, lv) "
   ]
  }
 ],
 "metadata": {
  "kernelspec": {
   "display_name": "Python 3",
   "language": "python",
   "name": "python3"
  },
  "language_info": {
   "codemirror_mode": {
    "name": "ipython",
    "version": 3
   },
   "file_extension": ".py",
   "mimetype": "text/x-python",
   "name": "python",
   "nbconvert_exporter": "python",
   "pygments_lexer": "ipython3",
   "version": "3.9.13"
  }
 },
 "nbformat": 4,
 "nbformat_minor": 5
}
