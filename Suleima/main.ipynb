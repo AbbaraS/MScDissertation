{
 "cells": [
  {
   "cell_type": "code",
   "execution_count": 15,
   "id": "35cf9863",
   "metadata": {},
   "outputs": [
    {
     "name": "stdout",
     "output_type": "stream",
     "text": [
      "The autoreload extension is already loaded. To reload it, use:\n",
      "  %reload_ext autoreload\n"
     ]
    }
   ],
   "source": [
    "%load_ext autoreload\n",
    "%autoreload 2\n",
    "%reload_ext autoreload\n",
    "\n",
    "from core import *\n",
    "from core.CT_3D import CardiacCT\n",
    "import os\n",
    "from core.cropping import cropping_volumes\n",
    "from core.segmenting import segmenting_volumes\n",
    "\n",
    "CNTRL_dicom_root = \"../Takotsubo-Syndrome/data/Inputs/normal_cases/\"\n",
    "TTS_dicom_root = \"../Takotsubo-Syndrome/data/Inputs/takotsubo_cases/\"\n",
    "root_dir = \"data/cases/\"\n",
    "\n"
   ]
  },
  {
   "cell_type": "code",
   "execution_count": 14,
   "id": "7a06d783",
   "metadata": {},
   "outputs": [
    {
     "ename": "AttributeError",
     "evalue": "module 'totalsegmentator' has no attribute '__version__'",
     "output_type": "error",
     "traceback": [
      "\u001b[1;31m---------------------------------------------------------------------------\u001b[0m",
      "\u001b[1;31mAttributeError\u001b[0m                            Traceback (most recent call last)",
      "Cell \u001b[1;32mIn[14], line 2\u001b[0m\n\u001b[0;32m      1\u001b[0m \u001b[38;5;28;01mimport\u001b[39;00m \u001b[38;5;21;01mtotalsegmentator\u001b[39;00m\n\u001b[1;32m----> 2\u001b[0m \u001b[38;5;28mprint\u001b[39m(\u001b[43mtotalsegmentator\u001b[49m\u001b[38;5;241;43m.\u001b[39;49m\u001b[43m__version__\u001b[49m)\n",
      "\u001b[1;31mAttributeError\u001b[0m: module 'totalsegmentator' has no attribute '__version__'"
     ]
    }
   ],
   "source": [
    "import totalsegmentator\n",
    "print(totalsegmentator.__version__)"
   ]
  },
  {
   "cell_type": "code",
   "execution_count": null,
   "id": "74a31061",
   "metadata": {},
   "outputs": [
    {
     "ename": "CalledProcessError",
     "evalue": "Command '['totalsegmentator', 'data/cases/CNTRL_AAP_50415783_61F\\\\fullCT.nii.gz', 'data/cases/CNTRL_AAP_50415783_61F\\\\segments', '--task', 'heartchambers_highres', '--body_seg', '--radiomics', '--preview', '--skip_segmentation']' returned non-zero exit status 2.",
     "output_type": "error",
     "traceback": [
      "\u001b[1;31m---------------------------------------------------------------------------\u001b[0m",
      "\u001b[1;31mCalledProcessError\u001b[0m                        Traceback (most recent call last)",
      "Cell \u001b[1;32mIn[16], line 6\u001b[0m\n\u001b[0;32m      3\u001b[0m     \u001b[38;5;28;01mcontinue\u001b[39;00m\n\u001b[0;32m      4\u001b[0m case \u001b[38;5;241m=\u001b[39m  CardiacCT(caseID)\n\u001b[1;32m----> 6\u001b[0m \u001b[43msegmenting_volumes\u001b[49m\u001b[43m(\u001b[49m\u001b[43mcase\u001b[49m\u001b[43m)\u001b[49m \u001b[38;5;66;03m# segmenting_volumes\u001b[39;00m\n\u001b[0;32m      7\u001b[0m cropping_volumes(case) \u001b[38;5;66;03m# cropping_volumes\u001b[39;00m\n",
      "File \u001b[1;32mc:\\Users\\sulei\\source\\Dissertation\\Suleima\\core\\segmenting.py:60\u001b[0m, in \u001b[0;36msegmenting_volumes\u001b[1;34m(case, skipSegmentation)\u001b[0m\n\u001b[0;32m     57\u001b[0m \u001b[38;5;28;01mif\u001b[39;00m skipSegmentation:\n\u001b[0;32m     58\u001b[0m     cmd\u001b[38;5;241m.\u001b[39mappend(\u001b[38;5;124m\"\u001b[39m\u001b[38;5;124m--skip_segmentation\u001b[39m\u001b[38;5;124m\"\u001b[39m)\n\u001b[1;32m---> 60\u001b[0m \u001b[43msubprocess\u001b[49m\u001b[38;5;241;43m.\u001b[39;49m\u001b[43mrun\u001b[49m\u001b[43m(\u001b[49m\u001b[43mcmd\u001b[49m\u001b[43m,\u001b[49m\u001b[43m \u001b[49m\u001b[43mcheck\u001b[49m\u001b[38;5;241;43m=\u001b[39;49m\u001b[38;5;28;43;01mTrue\u001b[39;49;00m\u001b[43m)\u001b[49m\n",
      "File \u001b[1;32mC:\\Program Files\\WindowsApps\\PythonSoftwareFoundation.Python.3.9_3.9.3568.0_x64__qbz5n2kfra8p0\\lib\\subprocess.py:528\u001b[0m, in \u001b[0;36mrun\u001b[1;34m(input, capture_output, timeout, check, *popenargs, **kwargs)\u001b[0m\n\u001b[0;32m    526\u001b[0m     retcode \u001b[38;5;241m=\u001b[39m process\u001b[38;5;241m.\u001b[39mpoll()\n\u001b[0;32m    527\u001b[0m     \u001b[38;5;28;01mif\u001b[39;00m check \u001b[38;5;129;01mand\u001b[39;00m retcode:\n\u001b[1;32m--> 528\u001b[0m         \u001b[38;5;28;01mraise\u001b[39;00m CalledProcessError(retcode, process\u001b[38;5;241m.\u001b[39margs,\n\u001b[0;32m    529\u001b[0m                                  output\u001b[38;5;241m=\u001b[39mstdout, stderr\u001b[38;5;241m=\u001b[39mstderr)\n\u001b[0;32m    530\u001b[0m \u001b[38;5;28;01mreturn\u001b[39;00m CompletedProcess(process\u001b[38;5;241m.\u001b[39margs, retcode, stdout, stderr)\n",
      "\u001b[1;31mCalledProcessError\u001b[0m: Command '['totalsegmentator', 'data/cases/CNTRL_AAP_50415783_61F\\\\fullCT.nii.gz', 'data/cases/CNTRL_AAP_50415783_61F\\\\segments', '--task', 'heartchambers_highres', '--body_seg', '--radiomics', '--preview', '--skip_segmentation']' returned non-zero exit status 2."
     ]
    }
   ],
   "source": [
    "for caseID in os.listdir(root_dir):\n",
    "    if caseID.startswith('.'):\n",
    "        continue\n",
    "    case =  CardiacCT(caseID)\n",
    "    \n",
    "    segmenting_volumes(case) # segmenting_volumes\n",
    "    cropping_volumes(case) # cropping_volumes\n"
   ]
  }
 ],
 "metadata": {
  "kernelspec": {
   "display_name": "Python 3",
   "language": "python",
   "name": "python3"
  },
  "language_info": {
   "codemirror_mode": {
    "name": "ipython",
    "version": 3
   },
   "file_extension": ".py",
   "mimetype": "text/x-python",
   "name": "python",
   "nbconvert_exporter": "python",
   "pygments_lexer": "ipython3",
   "version": "3.9.13"
  }
 },
 "nbformat": 4,
 "nbformat_minor": 5
}
