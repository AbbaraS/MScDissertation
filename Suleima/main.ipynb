{
 "cells": [
  {
   "cell_type": "code",
   "execution_count": 4,
   "id": "35cf9863",
   "metadata": {},
   "outputs": [
    {
     "name": "stdout",
     "output_type": "stream",
     "text": [
      "The autoreload extension is already loaded. To reload it, use:\n",
      "  %reload_ext autoreload\n"
     ]
    },
    {
     "name": "stderr",
     "output_type": "stream",
     "text": [
      "C:\\Users\\sulei\\AppData\\Local\\Packages\\PythonSoftwareFoundation.Python.3.9_qbz5n2kfra8p0\\LocalCache\\local-packages\\Python39\\site-packages\\requests\\__init__.py:102: RequestsDependencyWarning: urllib3 (1.26.20) or chardet (5.2.0)/charset_normalizer (2.0.12) doesn't match a supported version!\n",
      "  warnings.warn(\"urllib3 ({}) or chardet ({})/charset_normalizer ({}) doesn't match a supported \"\n"
     ]
    }
   ],
   "source": [
    "import os\n",
    "import shutil\n",
    "from pathlib import Path\n",
    "from ipywidgets import interact\n",
    "\n",
    "%load_ext autoreload\n",
    "%autoreload 2\n",
    "%reload_ext autoreload\n",
    "\n",
    "\n",
    "from core.Case import *\n",
    "from core.globals import *\n",
    "from core.Log import *\n",
    "\n",
    "\n",
    "from methods.plots import *\n",
    "from methods.preprocessing import *\n",
    "from methods.intensity import *\n",
    "from methods.slicing import *\n",
    "\n",
    "\n",
    "CNTRL_dicom_root = \"../Takotsubo-Syndrome/data/Inputs/normal_cases/\"\n",
    "TTS_dicom_root = \"../Takotsubo-Syndrome/data/Inputs/takotsubo_cases/\"\n",
    "root_dir = \"data/cases/\"\n",
    "\n"
   ]
  },
  {
   "cell_type": "code",
   "execution_count": null,
   "id": "1b765351",
   "metadata": {},
   "outputs": [],
   "source": [
    "root_dir = Path(\"data/cases\")\n",
    "loop=0\n",
    "for caseID in os.listdir(root_dir):\n",
    "\tif caseID.startswith('.'):\n",
    "\t\tcontinue\n",
    "\tcase = Case(caseID)\n",
    "\tset_log(caseID)\n",
    "\tcasepath = root_dir / caseID\n",
    "\n",
    "\tcase = Case(caseID)\n",
    "\tset_log(caseID)\n",
    "\n",
    "\ttry:\n",
    "\t\t# if case.croppedCT.exists() and case.croppedMask.exists():\n",
    "\t\tif case.croppedCT.exists and case.cropped_mask.exists is False:\n",
    "\t\t\tcrop(case)\n",
    "\t\tif case.resampledCT.exists and case.resampled_mask.exists is False:\n",
    "\t\t\tresample(case)\n",
    "\n",
    "\t\t# not now - after normalising intensities\n",
    "\t\tif slices_exist(case) is False:\n",
    "\t\t\tsliceVol(case)\n",
    "\t\tloop += 1\n",
    "\t\tif loop > 5:\n",
    "\t\t\tbreak\n",
    "\texcept Exception as e:\n",
    "\t\tlog(f\"Error slicing: {e}\", False)\n",
    "\n",
    "\n"
   ]
  },
  {
   "cell_type": "code",
   "execution_count": null,
   "id": "da86e3a2",
   "metadata": {},
   "outputs": [],
   "source": [
    "'''\n",
    "Resample to a fixed voxel spacing (e.g., 1mm³) → crop/pad to fixed shape (64³).\n",
    "Apply rotation, translation, slight intensity jitter during training.\n",
    "Avoid scaling if you’ve already fixed voxel spacing.\n",
    "'''\n"
   ]
  }
 ],
 "metadata": {
  "kernelspec": {
   "display_name": "Python 3",
   "language": "python",
   "name": "python3"
  },
  "language_info": {
   "codemirror_mode": {
    "name": "ipython",
    "version": 3
   },
   "file_extension": ".py",
   "mimetype": "text/x-python",
   "name": "python",
   "nbconvert_exporter": "python",
   "pygments_lexer": "ipython3",
   "version": "3.9.13"
  }
 },
 "nbformat": 4,
 "nbformat_minor": 5
}
