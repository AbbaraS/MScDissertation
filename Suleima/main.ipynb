{
 "cells": [
  {
   "cell_type": "code",
   "execution_count": 4,
   "id": "35cf9863",
   "metadata": {},
   "outputs": [
    {
     "name": "stdout",
     "output_type": "stream",
     "text": [
      "The autoreload extension is already loaded. To reload it, use:\n",
      "  %reload_ext autoreload\n"
     ]
    }
   ],
   "source": [
    "import os\n",
    "\n",
    "%load_ext autoreload\n",
    "%autoreload 2\n",
    "%reload_ext autoreload\n",
    "\n",
    "from core import *\n",
    "from core.Case import *\n",
    "from ipywidgets import interact\n",
    "from methods.plots import *\n",
    "from methods.preprocessing import *\n",
    "from core.Log import log, set_log\n",
    "import shutil\n",
    "\n",
    "\n",
    "CNTRL_dicom_root = \"../Takotsubo-Syndrome/data/Inputs/normal_cases/\"\n",
    "TTS_dicom_root = \"../Takotsubo-Syndrome/data/Inputs/takotsubo_cases/\"\n",
    "root_dir = \"data/cases/\"\n",
    "\n"
   ]
  },
  {
   "cell_type": "code",
   "execution_count": null,
   "id": "1b765351",
   "metadata": {},
   "outputs": [],
   "source": [
    "\n",
    "root_dir = \"data/cases/\"\n",
    "for caseID in os.listdir(root_dir):\n",
    "\tif caseID.startswith('.'):\n",
    "\t\tcontinue\n",
    "\t#print(f\"caseID=\\\"{caseID}\\\"\")\n",
    "\t# delete directory: data/cases/{caseID}/ctSlices\n",
    "\t# delete directory: data/cases/{caseID}/maskSlices\n",
    "\t# delete directory: data/cases/{caseID}/info.txt\n",
    "\tpath = os.path.join(root_dir, caseID)\n",
    "\tif os.path.exists(os.path.join(path, \"maskSlices\")):\n",
    "\t\tshutil.rmtree(os.path.join(path, \"maskSlices\"))\n",
    "\tif os.path.exists(os.path.join(path, \"ctSlices\")):\n",
    "\t\tshutil.rmtree(os.path.join(path, \"ctSlices\"))\n",
    "\n",
    "\tcase = Case(caseID)\n",
    "\tset_log(caseID, False)\n",
    "\n",
    "\ttry:\n",
    "\t\tcrop(case)\n",
    "\t\tresample(case)\n",
    "\t\tif slices_exist(case) is False:\n",
    "\t\t\tresults = sliceVol(case)\n",
    "\t\t\tsave_slices(case, results)\n",
    "\texcept Exception as e:\n",
    "\t\tlog(f\"Error slicing: {e}\", False)\n",
    "\n"
   ]
  },
  {
   "cell_type": "code",
   "execution_count": 8,
   "id": "74a31061",
   "metadata": {},
   "outputs": [
    {
     "name": "stdout",
     "output_type": "stream",
     "text": [
      "classes: 5\n",
      "onhot shape: (64, 64, 64, 5), orientation: ('R', 'A', 'S')\n"
     ]
    }
   ],
   "source": [
    "caseID=\"TTS_BLT_11022191_60F\"\n",
    "case = Case(caseID)\n",
    "segs = case.resampledsegs\n",
    "path = f\"{case.casePath}/onehot_mask.nii.gz\"\n",
    "onhot = case.onehot_mask(segs, path)\n",
    "print(f\"onhot shape: {onhot.shape}, orientation: {onhot.orientation}\")"
   ]
  },
  {
   "cell_type": "code",
   "execution_count": null,
   "id": "2c7aa927",
   "metadata": {},
   "outputs": [
    {
     "data": {
      "application/vnd.jupyter.widget-view+json": {
       "model_id": "4fc3879c5db24320bd0c51afb511ee8b",
       "version_major": 2,
       "version_minor": 0
      },
      "text/plain": [
       "interactive(children=(IntSlider(value=31, description='slice_index', max=63), Output()), _dom_classes=('widget…"
      ]
     },
     "metadata": {},
     "output_type": "display_data"
    }
   ],
   "source": [
    "\n",
    "#scrollable_ct_mask(ct, lv)"
   ]
  },
  {
   "cell_type": "code",
   "execution_count": null,
   "id": "08351629",
   "metadata": {},
   "outputs": [],
   "source": [
    "'''\n",
    "[WARNING] Missing fullCT.nii.gz in CNTRL_KMC_92706_81F\n",
    "[WARNING] Missing fullCT.nii.gz in TTS_CDA_38093134_74F\n",
    "[WARNING] Missing fullCT.nii.gz in TTS_GA_39800503_22F\n",
    "[WARNING] Missing fullCT.nii.gz in TTS_LW_12109724_62F\n",
    "[WARNING] Missing fullCT.nii.gz in TTS_MA_6894703_78F\n",
    "[WARNING] Missing fullCT.nii.gz in TTS_SSA_35792472_73F\n",
    "'''"
   ]
  }
 ],
 "metadata": {
  "kernelspec": {
   "display_name": "Python 3",
   "language": "python",
   "name": "python3"
  },
  "language_info": {
   "codemirror_mode": {
    "name": "ipython",
    "version": 3
   },
   "file_extension": ".py",
   "mimetype": "text/x-python",
   "name": "python",
   "nbconvert_exporter": "python",
   "pygments_lexer": "ipython3",
   "version": "3.9.13"
  }
 },
 "nbformat": 4,
 "nbformat_minor": 5
}
