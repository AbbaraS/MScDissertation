{
 "cells": [
  {
   "cell_type": "code",
   "execution_count": 23,
   "id": "35cf9863",
   "metadata": {},
   "outputs": [
    {
     "name": "stdout",
     "output_type": "stream",
     "text": [
      "The autoreload extension is already loaded. To reload it, use:\n",
      "  %reload_ext autoreload\n"
     ]
    }
   ],
   "source": [
    "import os\n",
    "\n",
    "%load_ext autoreload\n",
    "%autoreload 2\n",
    "%reload_ext autoreload\n",
    "\n",
    "from core import *\n",
    "from core.Case import *\n",
    "from ipywidgets import interact\n",
    "from methods.plots import *\n",
    "from methods.preprocessing import *\n",
    "from core.Log import log, set_log\n",
    "\n",
    "\n",
    "\n",
    "CNTRL_dicom_root = \"../Takotsubo-Syndrome/data/Inputs/normal_cases/\"\n",
    "TTS_dicom_root = \"../Takotsubo-Syndrome/data/Inputs/takotsubo_cases/\"\n",
    "root_dir = \"data/cases/\"\n",
    "\n"
   ]
  },
  {
   "cell_type": "code",
   "execution_count": null,
   "id": "1b765351",
   "metadata": {},
   "outputs": [
    {
     "name": "stdout",
     "output_type": "stream",
     "text": [
      "caseID=\"CNTRL_AAP_50415783_61F\"\n",
      "[2025-08-07 22:32:03] \n",
      "Cropping...\n",
      "[2025-08-07 22:32:03] Saved: data/cases/CNTRL_AAP_50415783_61F\\croppedCT.nii.gz\n",
      "caseID=\"CNTRL_PL_36050987_73M\"\n",
      "[2025-08-07 22:32:03] \n",
      "Cropping...\n",
      "[2025-08-07 22:32:03] Saved: data/cases/CNTRL_PL_36050987_73M\\croppedCT.nii.gz\n",
      "caseID=\"TTS_BLT_11022191_60F\"\n",
      "[2025-08-07 22:32:03] \n",
      "Cropping...\n",
      "[2025-08-07 22:32:04] Saved: data/cases/TTS_BLT_11022191_60F\\croppedCT.nii.gz\n"
     ]
    },
    {
     "ename": "NameError",
     "evalue": "name 'slices_exist' is not defined",
     "output_type": "error",
     "traceback": [
      "\u001b[1;31m---------------------------------------------------------------------------\u001b[0m",
      "\u001b[1;31mNameError\u001b[0m                                 Traceback (most recent call last)",
      "Cell \u001b[1;32mIn[22], line 13\u001b[0m\n\u001b[0;32m     11\u001b[0m \tcrop(case)\n\u001b[0;32m     12\u001b[0m \tresample(case)\n\u001b[1;32m---> 13\u001b[0m \u001b[38;5;28;01mif\u001b[39;00m \u001b[43mslices_exist\u001b[49m(case) \u001b[38;5;129;01mis\u001b[39;00m \u001b[38;5;28;01mFalse\u001b[39;00m:\n\u001b[0;32m     14\u001b[0m \t\u001b[38;5;28mslice\u001b[39m(case)\n",
      "\u001b[1;31mNameError\u001b[0m: name 'slices_exist' is not defined"
     ]
    }
   ],
   "source": [
    "\n",
    "root_dir = \"data/cases/\"\n",
    "for caseID in os.listdir(root_dir):\n",
    "\tif caseID.startswith('.'):\n",
    "\t\tcontinue\n",
    "\tprint(f\"caseID=\\\"{caseID}\\\"\")\n",
    "\tcase = Case(caseID)\n",
    "\t# set_log(caseID=caseID, also_print=True) ---> Print everything always\n",
    "\t# set_log(caseID=caseID, also_print=False) ---> Only print when==> log(msg, True)\n",
    "\tset_log(caseID, True)\n",
    "\n",
    "\tcrop(case)\n",
    "\tresample(case)\n",
    "\tslice(case)\n",
    "\n"
   ]
  },
  {
   "cell_type": "code",
   "execution_count": 24,
   "id": "74a31061",
   "metadata": {},
   "outputs": [
    {
     "name": "stdout",
     "output_type": "stream",
     "text": [
      "[2025-08-07 22:32:46] \n",
      "Cropping...\n",
      "[2025-08-07 22:32:46] Saved: data/cases/TTS_BLT_11022191_60F\\croppedCT.nii.gz\n"
     ]
    }
   ],
   "source": [
    "caseID=\"TTS_BLT_11022191_60F\"\n",
    "case = Case(caseID)\n",
    "set_log(caseID, True)\n",
    "crop(case)\n",
    "resample(case)\n",
    "\n",
    "if slices_exist(case) is False:\n",
    "\tresults = slice(case)\n",
    "\tsave_slices(case, results)"
   ]
  },
  {
   "cell_type": "code",
   "execution_count": null,
   "id": "fba30f95",
   "metadata": {},
   "outputs": [
    {
     "name": "stdout",
     "output_type": "stream",
     "text": [
      "sag indices: \n",
      "[ 0  1 33 34 35 36 37 38 39 40 41 42 43 44 45 46 47 48 49 50 51 52 53 54\n",
      " 55 56 57 58 59 60] \n",
      "length: 30\n",
      "7\n",
      "15\n",
      "22\n"
     ]
    }
   ],
   "source": [
    "\n"
   ]
  },
  {
   "cell_type": "code",
   "execution_count": null,
   "id": "a3f0dca8",
   "metadata": {},
   "outputs": [
    {
     "data": {
      "application/vnd.jupyter.widget-view+json": {
       "model_id": "7f06d76d2a9a49f4b8ee5930828e7dbf",
       "version_major": 2,
       "version_minor": 0
      },
      "text/plain": [
       "interactive(children=(IntSlider(value=14, description='slice_index', max=29), Output()), _dom_classes=('widget…"
      ]
     },
     "metadata": {},
     "output_type": "display_data"
    }
   ],
   "source": [
    "lv = case.croppedsegs[\"LV\"]\n",
    "ct = case.croppedCT\n",
    "\n",
    "scrollable_ct_mask(ct, lv)"
   ]
  },
  {
   "cell_type": "code",
   "execution_count": null,
   "id": "2c7aa927",
   "metadata": {},
   "outputs": [
    {
     "data": {
      "application/vnd.jupyter.widget-view+json": {
       "model_id": "4fc3879c5db24320bd0c51afb511ee8b",
       "version_major": 2,
       "version_minor": 0
      },
      "text/plain": [
       "interactive(children=(IntSlider(value=31, description='slice_index', max=63), Output()), _dom_classes=('widget…"
      ]
     },
     "metadata": {},
     "output_type": "display_data"
    }
   ],
   "source": [
    "lv = case.resampledsegs[\"LV\"]\n",
    "ct = case.resampledCT\n",
    "\n",
    "scrollable_ct_mask(ct, lv)"
   ]
  }
 ],
 "metadata": {
  "kernelspec": {
   "display_name": "Python 3",
   "language": "python",
   "name": "python3"
  },
  "language_info": {
   "codemirror_mode": {
    "name": "ipython",
    "version": 3
   },
   "file_extension": ".py",
   "mimetype": "text/x-python",
   "name": "python",
   "nbconvert_exporter": "python",
   "pygments_lexer": "ipython3",
   "version": "3.9.13"
  }
 },
 "nbformat": 4,
 "nbformat_minor": 5
}
