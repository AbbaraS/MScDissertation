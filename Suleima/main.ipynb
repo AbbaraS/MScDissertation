{
 "cells": [
  {
   "cell_type": "code",
   "execution_count": 2,
   "id": "35cf9863",
   "metadata": {},
   "outputs": [
    {
     "name": "stdout",
     "output_type": "stream",
     "text": [
      "The autoreload extension is already loaded. To reload it, use:\n",
      "  %reload_ext autoreload\n"
     ]
    }
   ],
   "source": [
    "import os\n",
    "\n",
    "\n",
    "%load_ext autoreload\n",
    "%autoreload 2\n",
    "%reload_ext autoreload\n",
    "\n",
    "from core import *\n",
    "from core.Case import *\n",
    "from ipywidgets import interact\n",
    "from methods.plots import *\n",
    "#from methods.cropping import *\n",
    "#from methods.segmenting import segmenting_volumes\n",
    "\n",
    "CNTRL_dicom_root = \"../Takotsubo-Syndrome/data/Inputs/normal_cases/\"\n",
    "TTS_dicom_root = \"../Takotsubo-Syndrome/data/Inputs/takotsubo_cases/\"\n",
    "root_dir = \"data/cases/\"\n",
    "\n"
   ]
  },
  {
   "cell_type": "code",
   "execution_count": 7,
   "id": "1b765351",
   "metadata": {},
   "outputs": [
    {
     "name": "stdout",
     "output_type": "stream",
     "text": [
      "caseID=\"CNTRL_AAP_50415783_61F\"\n",
      "caseID=\"CNTRL_PL_36050987_73M\"\n"
     ]
    }
   ],
   "source": [
    "root_dir = \"data/cases/\"\n",
    "for caseID in os.listdir(root_dir):\n",
    "\tif caseID.startswith('.'):\n",
    "\t\tcontinue\n",
    "\tprint(f\"caseID=\\\"{caseID}\\\"\")"
   ]
  },
  {
   "cell_type": "code",
   "execution_count": 6,
   "id": "74a31061",
   "metadata": {},
   "outputs": [
    {
     "name": "stdout",
     "output_type": "stream",
     "text": [
      "totalsegs: dict_keys(['LV', 'LA', 'RV', 'RA', 'MYO'])\n"
     ]
    },
    {
     "ename": "AttributeError",
     "evalue": "can't set attribute",
     "output_type": "error",
     "traceback": [
      "\u001b[1;31m---------------------------------------------------------------------------\u001b[0m",
      "\u001b[1;31mAttributeError\u001b[0m                            Traceback (most recent call last)",
      "Cell \u001b[1;32mIn[6], line 3\u001b[0m\n\u001b[0;32m      1\u001b[0m caseID \u001b[38;5;241m=\u001b[39m \u001b[38;5;124m\"\u001b[39m\u001b[38;5;124mCNTRL_AAP_50415783_61F\u001b[39m\u001b[38;5;124m\"\u001b[39m\n\u001b[0;32m      2\u001b[0m case \u001b[38;5;241m=\u001b[39m Case(caseID)\n\u001b[1;32m----> 3\u001b[0m \u001b[43mcrop\u001b[49m\u001b[43m(\u001b[49m\u001b[43mcase\u001b[49m\u001b[43m)\u001b[49m\n",
      "File \u001b[1;32mc:\\Users\\sulei\\source\\Dissertation\\Suleima\\core\\Case.py:461\u001b[0m, in \u001b[0;36mcrop\u001b[1;34m(case)\u001b[0m\n\u001b[0;32m    459\u001b[0m \u001b[38;5;66;03m# key, value \u001b[39;00m\n\u001b[0;32m    460\u001b[0m \u001b[38;5;28;01mif\u001b[39;00m case\u001b[38;5;241m.\u001b[39mtotalsegs[\u001b[38;5;124m\"\u001b[39m\u001b[38;5;124mLV\u001b[39m\u001b[38;5;124m\"\u001b[39m]:\n\u001b[1;32m--> 461\u001b[0m \t\u001b[38;5;28;43;01mcase\u001b[39;49;00m\u001b[38;5;241;43m.\u001b[39;49m\u001b[43mLVcropped\u001b[49m \u001b[38;5;241m=\u001b[39m NiftiVolume\u001b[38;5;241m.\u001b[39minit_from_array(case\u001b[38;5;241m.\u001b[39mtotalsegs[\u001b[38;5;124m\"\u001b[39m\u001b[38;5;124mLV\u001b[39m\u001b[38;5;124m\"\u001b[39m]\u001b[38;5;241m.\u001b[39mdata, \n\u001b[0;32m    462\u001b[0m \t\t\t\t\t\t\t\t\t\t\t   \t\u001b[38;5;28;01mcase\u001b[39;00m\u001b[38;5;241m.\u001b[39mtotalsegs[\u001b[38;5;124m\"\u001b[39m\u001b[38;5;124mLV\u001b[39m\u001b[38;5;124m\"\u001b[39m]\u001b[38;5;241m.\u001b[39maffine, \n\u001b[0;32m    463\u001b[0m \t\t\t\t\t\t\t\t\t\t\t\t\u001b[38;5;28;01mcase\u001b[39;00m\u001b[38;5;241m.\u001b[39mtotalsegs[\u001b[38;5;124m\"\u001b[39m\u001b[38;5;124mLV\u001b[39m\u001b[38;5;124m\"\u001b[39m]\u001b[38;5;241m.\u001b[39mheader,\n\u001b[0;32m    464\u001b[0m \t\t\t\t\t\t\t\t\t\t\t   \tos\u001b[38;5;241m.\u001b[39mpath\u001b[38;5;241m.\u001b[39mjoin(case\u001b[38;5;241m.\u001b[39mcasePath, \u001b[38;5;124m\"\u001b[39m\u001b[38;5;124mcropped\u001b[39m\u001b[38;5;124m\"\u001b[39m, \u001b[38;5;124m\"\u001b[39m\u001b[38;5;124mLV.nii.gz\u001b[39m\u001b[38;5;124m\"\u001b[39m))\n\u001b[0;32m    465\u001b[0m \u001b[38;5;28;01mif\u001b[39;00m case\u001b[38;5;241m.\u001b[39mtotalsegs[\u001b[38;5;124m\"\u001b[39m\u001b[38;5;124mLA\u001b[39m\u001b[38;5;124m\"\u001b[39m]:\n\u001b[0;32m    466\u001b[0m \t\u001b[38;5;28;01mcase\u001b[39;00m\u001b[38;5;241m.\u001b[39mLAcropped \u001b[38;5;241m=\u001b[39m NiftiVolume\u001b[38;5;241m.\u001b[39minit_from_array(case\u001b[38;5;241m.\u001b[39mtotalsegs[\u001b[38;5;124m\"\u001b[39m\u001b[38;5;124mLA\u001b[39m\u001b[38;5;124m\"\u001b[39m]\u001b[38;5;241m.\u001b[39mdata, \n\u001b[0;32m    467\u001b[0m \t\t\t\t\t\t\t\t\t\t\t   \u001b[38;5;28;01mcase\u001b[39;00m\u001b[38;5;241m.\u001b[39mtotalsegs[\u001b[38;5;124m\"\u001b[39m\u001b[38;5;124mLA\u001b[39m\u001b[38;5;124m\"\u001b[39m]\u001b[38;5;241m.\u001b[39maffine, \n\u001b[0;32m    468\u001b[0m \t\t\t\t\t\t\t\t\t\t\t   \u001b[38;5;28;01mcase\u001b[39;00m\u001b[38;5;241m.\u001b[39mtotalsegs[\u001b[38;5;124m\"\u001b[39m\u001b[38;5;124mLA\u001b[39m\u001b[38;5;124m\"\u001b[39m]\u001b[38;5;241m.\u001b[39mheader,\n\u001b[0;32m    469\u001b[0m \t\t\t\t\t\t\t\t\t\t\t   os\u001b[38;5;241m.\u001b[39mpath\u001b[38;5;241m.\u001b[39mjoin(case\u001b[38;5;241m.\u001b[39mcasePath, \u001b[38;5;124m\"\u001b[39m\u001b[38;5;124mcropped\u001b[39m\u001b[38;5;124m\"\u001b[39m, \u001b[38;5;124m\"\u001b[39m\u001b[38;5;124mLA.nii.gz\u001b[39m\u001b[38;5;124m\"\u001b[39m))\n",
      "\u001b[1;31mAttributeError\u001b[0m: can't set attribute"
     ]
    }
   ],
   "source": [
    "caseID = \"CNTRL_AAP_50415783_61F\"\n",
    "case = Case(caseID)\n",
    "crop(case)\n",
    "\n",
    "\n"
   ]
  },
  {
   "cell_type": "code",
   "execution_count": null,
   "id": "a3f0dca8",
   "metadata": {},
   "outputs": [
    {
     "data": {
      "application/vnd.jupyter.widget-view+json": {
       "model_id": "7f06d76d2a9a49f4b8ee5930828e7dbf",
       "version_major": 2,
       "version_minor": 0
      },
      "text/plain": [
       "interactive(children=(IntSlider(value=14, description='slice_index', max=29), Output()), _dom_classes=('widget…"
      ]
     },
     "metadata": {},
     "output_type": "display_data"
    }
   ],
   "source": [
    "lv = case.croppedsegs[\"LV\"]\n",
    "ct = case.croppedCT\n",
    "\n",
    "scrollable_ct_mask(ct, lv) "
   ]
  },
  {
   "cell_type": "code",
   "execution_count": 55,
   "id": "2c7aa927",
   "metadata": {},
   "outputs": [
    {
     "data": {
      "application/vnd.jupyter.widget-view+json": {
       "model_id": "4fc3879c5db24320bd0c51afb511ee8b",
       "version_major": 2,
       "version_minor": 0
      },
      "text/plain": [
       "interactive(children=(IntSlider(value=31, description='slice_index', max=63), Output()), _dom_classes=('widget…"
      ]
     },
     "metadata": {},
     "output_type": "display_data"
    }
   ],
   "source": [
    "lv = case.resampledsegs[\"LV\"]\n",
    "ct = case.resampledCT\n",
    "\n",
    "scrollable_ct_mask(ct, lv) "
   ]
  }
 ],
 "metadata": {
  "kernelspec": {
   "display_name": "Python 3",
   "language": "python",
   "name": "python3"
  },
  "language_info": {
   "codemirror_mode": {
    "name": "ipython",
    "version": 3
   },
   "file_extension": ".py",
   "mimetype": "text/x-python",
   "name": "python",
   "nbconvert_exporter": "python",
   "pygments_lexer": "ipython3",
   "version": "3.9.13"
  }
 },
 "nbformat": 4,
 "nbformat_minor": 5
}
