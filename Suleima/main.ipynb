{
 "cells": [
  {
   "cell_type": "code",
   "execution_count": 49,
   "id": "35cf9863",
   "metadata": {},
   "outputs": [
    {
     "name": "stdout",
     "output_type": "stream",
     "text": [
      "The autoreload extension is already loaded. To reload it, use:\n",
      "  %reload_ext autoreload\n"
     ]
    }
   ],
   "source": [
    "import os\n",
    "\n",
    "\n",
    "%load_ext autoreload\n",
    "%autoreload 2\n",
    "%reload_ext autoreload\n",
    "\n",
    "from core import *\n",
    "from core.Case import *\n",
    "from ipywidgets import interact\n",
    "from methods.plots import *\n",
    "#from methods.cropping import *\n",
    "#from methods.segmenting import segmenting_volumes\n",
    "\n",
    "CNTRL_dicom_root = \"../Takotsubo-Syndrome/data/Inputs/normal_cases/\"\n",
    "TTS_dicom_root = \"../Takotsubo-Syndrome/data/Inputs/takotsubo_cases/\"\n",
    "root_dir = \"data/cases/\"\n",
    "\n"
   ]
  },
  {
   "cell_type": "code",
   "execution_count": 58,
   "id": "74a31061",
   "metadata": {},
   "outputs": [
    {
     "name": "stderr",
     "output_type": "stream",
     "text": [
      "[autoreload of core.case failed: Traceback (most recent call last):\n",
      "  File \"C:\\Users\\sulei\\AppData\\Local\\Packages\\PythonSoftwareFoundation.Python.3.9_qbz5n2kfra8p0\\LocalCache\\local-packages\\Python39\\site-packages\\IPython\\extensions\\autoreload.py\", line 276, in check\n",
      "    superreload(m, reload, self.old_objects)\n",
      "  File \"C:\\Users\\sulei\\AppData\\Local\\Packages\\PythonSoftwareFoundation.Python.3.9_qbz5n2kfra8p0\\LocalCache\\local-packages\\Python39\\site-packages\\IPython\\extensions\\autoreload.py\", line 475, in superreload\n",
      "    module = reload(module)\n",
      "  File \"C:\\Program Files\\WindowsApps\\PythonSoftwareFoundation.Python.3.9_3.9.3568.0_x64__qbz5n2kfra8p0\\lib\\importlib\\__init__.py\", line 168, in reload\n",
      "    raise ModuleNotFoundError(f\"spec not found for the module {name!r}\", name=name)\n",
      "ModuleNotFoundError: spec not found for the module 'core.case'\n",
      "]\n",
      "[autoreload of core.case failed: Traceback (most recent call last):\n",
      "  File \"C:\\Users\\sulei\\AppData\\Local\\Packages\\PythonSoftwareFoundation.Python.3.9_qbz5n2kfra8p0\\LocalCache\\local-packages\\Python39\\site-packages\\IPython\\extensions\\autoreload.py\", line 276, in check\n",
      "    superreload(m, reload, self.old_objects)\n",
      "  File \"C:\\Users\\sulei\\AppData\\Local\\Packages\\PythonSoftwareFoundation.Python.3.9_qbz5n2kfra8p0\\LocalCache\\local-packages\\Python39\\site-packages\\IPython\\extensions\\autoreload.py\", line 475, in superreload\n",
      "    module = reload(module)\n",
      "  File \"C:\\Program Files\\WindowsApps\\PythonSoftwareFoundation.Python.3.9_3.9.3568.0_x64__qbz5n2kfra8p0\\lib\\importlib\\__init__.py\", line 168, in reload\n",
      "    raise ModuleNotFoundError(f\"spec not found for the module {name!r}\", name=name)\n",
      "ModuleNotFoundError: spec not found for the module 'core.case'\n",
      "]\n",
      "[autoreload of core.case failed: Traceback (most recent call last):\n",
      "  File \"C:\\Users\\sulei\\AppData\\Local\\Packages\\PythonSoftwareFoundation.Python.3.9_qbz5n2kfra8p0\\LocalCache\\local-packages\\Python39\\site-packages\\IPython\\extensions\\autoreload.py\", line 276, in check\n",
      "    superreload(m, reload, self.old_objects)\n",
      "  File \"C:\\Users\\sulei\\AppData\\Local\\Packages\\PythonSoftwareFoundation.Python.3.9_qbz5n2kfra8p0\\LocalCache\\local-packages\\Python39\\site-packages\\IPython\\extensions\\autoreload.py\", line 475, in superreload\n",
      "    module = reload(module)\n",
      "  File \"C:\\Program Files\\WindowsApps\\PythonSoftwareFoundation.Python.3.9_3.9.3568.0_x64__qbz5n2kfra8p0\\lib\\importlib\\__init__.py\", line 168, in reload\n",
      "    raise ModuleNotFoundError(f\"spec not found for the module {name!r}\", name=name)\n",
      "ModuleNotFoundError: spec not found for the module 'core.case'\n",
      "]\n",
      "[autoreload of core.case failed: Traceback (most recent call last):\n",
      "  File \"C:\\Users\\sulei\\AppData\\Local\\Packages\\PythonSoftwareFoundation.Python.3.9_qbz5n2kfra8p0\\LocalCache\\local-packages\\Python39\\site-packages\\IPython\\extensions\\autoreload.py\", line 276, in check\n",
      "    superreload(m, reload, self.old_objects)\n",
      "  File \"C:\\Users\\sulei\\AppData\\Local\\Packages\\PythonSoftwareFoundation.Python.3.9_qbz5n2kfra8p0\\LocalCache\\local-packages\\Python39\\site-packages\\IPython\\extensions\\autoreload.py\", line 475, in superreload\n",
      "    module = reload(module)\n",
      "  File \"C:\\Program Files\\WindowsApps\\PythonSoftwareFoundation.Python.3.9_3.9.3568.0_x64__qbz5n2kfra8p0\\lib\\importlib\\__init__.py\", line 168, in reload\n",
      "    raise ModuleNotFoundError(f\"spec not found for the module {name!r}\", name=name)\n",
      "ModuleNotFoundError: spec not found for the module 'core.case'\n",
      "]\n"
     ]
    },
    {
     "name": "stdout",
     "output_type": "stream",
     "text": [
      "Processing case: CNTRL_AAP_50415783_61F\n",
      "LV indices: {'sag': array([29, 30, 31, 32, 33, 34, 35, 36, 37, 38, 39, 40, 41, 42, 43, 44, 45,\n",
      "       46, 47, 48, 49, 50, 51, 52, 53, 54, 55, 56, 57, 58, 59],\n",
      "      dtype=int64), 'cor': array([ 9, 10, 11, 12, 13, 14, 15, 16, 17, 18, 19, 20, 21, 22, 23, 24, 25,\n",
      "       26, 27, 28, 29, 30, 31, 32, 33, 34, 35, 36, 37, 38, 39, 40, 41, 42,\n",
      "       43, 44, 45, 46, 47, 48, 49, 50, 51, 52], dtype=int64), 'axi': array([11, 12, 13, 14, 15, 16, 17, 18, 19, 20, 21, 22, 23, 24, 25, 26, 27,\n",
      "       28, 29, 30, 31, 32, 33, 34, 35, 36, 37, 38, 39, 40, 41, 42, 43, 44,\n",
      "       45, 46, 47, 48, 49, 50], dtype=int64)}\n"
     ]
    },
    {
     "ename": "TypeError",
     "evalue": "get_three_slices_within() takes 1 positional argument but 2 were given",
     "output_type": "error",
     "traceback": [
      "\u001b[1;31m---------------------------------------------------------------------------\u001b[0m",
      "\u001b[1;31mTypeError\u001b[0m                                 Traceback (most recent call last)",
      "Cell \u001b[1;32mIn[58], line 19\u001b[0m\n\u001b[0;32m     17\u001b[0m \u001b[38;5;28;01mcase\u001b[39;00m\u001b[38;5;241m.\u001b[39mtrim_empty_slices()\n\u001b[0;32m     18\u001b[0m \u001b[38;5;28;01mcase\u001b[39;00m\u001b[38;5;241m.\u001b[39mresample_pipeline()\n\u001b[1;32m---> 19\u001b[0m \u001b[38;5;28;43;01mcase\u001b[39;49;00m\u001b[38;5;241;43m.\u001b[39;49m\u001b[43mselect_slices\u001b[49m\u001b[43m(\u001b[49m\u001b[43m)\u001b[49m\n\u001b[0;32m     20\u001b[0m \u001b[38;5;28;01mbreak\u001b[39;00m\n",
      "File \u001b[1;32mc:\\Users\\sulei\\source\\Dissertation\\Suleima\\core\\Case.py:290\u001b[0m, in \u001b[0;36mCardiacCT.select_slices\u001b[1;34m(self)\u001b[0m\n\u001b[0;32m    287\u001b[0m lv_indices \u001b[38;5;241m=\u001b[39m \u001b[38;5;28mself\u001b[39m\u001b[38;5;241m.\u001b[39mget_LV_indices()\n\u001b[0;32m    288\u001b[0m \u001b[38;5;28mprint\u001b[39m(\u001b[38;5;124mf\u001b[39m\u001b[38;5;124m\"\u001b[39m\u001b[38;5;124mLV indices: \u001b[39m\u001b[38;5;132;01m{\u001b[39;00mlv_indices\u001b[38;5;132;01m}\u001b[39;00m\u001b[38;5;124m\"\u001b[39m)\n\u001b[0;32m    289\u001b[0m slices \u001b[38;5;241m=\u001b[39m {\n\u001b[1;32m--> 290\u001b[0m \t\u001b[38;5;124m\"\u001b[39m\u001b[38;5;124msagittal\u001b[39m\u001b[38;5;124m\"\u001b[39m: \u001b[38;5;28;43mself\u001b[39;49m\u001b[38;5;241;43m.\u001b[39;49m\u001b[43mget_three_slices_within\u001b[49m\u001b[43m(\u001b[49m\u001b[43mlv_indices\u001b[49m\u001b[43m[\u001b[49m\u001b[38;5;124;43m\"\u001b[39;49m\u001b[38;5;124;43msag\u001b[39;49m\u001b[38;5;124;43m\"\u001b[39;49m\u001b[43m]\u001b[49m\u001b[43m)\u001b[49m,\n\u001b[0;32m    291\u001b[0m \t\u001b[38;5;124m\"\u001b[39m\u001b[38;5;124mcoronal\u001b[39m\u001b[38;5;124m\"\u001b[39m: \u001b[38;5;28mself\u001b[39m\u001b[38;5;241m.\u001b[39mget_three_slices_within(lv_indices[\u001b[38;5;124m\"\u001b[39m\u001b[38;5;124mcor\u001b[39m\u001b[38;5;124m\"\u001b[39m]),\n\u001b[0;32m    292\u001b[0m \t\u001b[38;5;124m\"\u001b[39m\u001b[38;5;124maxial\u001b[39m\u001b[38;5;124m\"\u001b[39m: \u001b[38;5;28mself\u001b[39m\u001b[38;5;241m.\u001b[39mget_three_slices_within(lv_indices[\u001b[38;5;124m\"\u001b[39m\u001b[38;5;124maxi\u001b[39m\u001b[38;5;124m\"\u001b[39m])\n\u001b[0;32m    293\u001b[0m }\n\u001b[0;32m    294\u001b[0m \u001b[38;5;28mself\u001b[39m\u001b[38;5;241m.\u001b[39mlog_message(\u001b[38;5;124mf\u001b[39m\u001b[38;5;124m\"\u001b[39m\u001b[38;5;124mSelected slices: \u001b[39m\u001b[38;5;132;01m{\u001b[39;00mslices\u001b[38;5;132;01m}\u001b[39;00m\u001b[38;5;124m\"\u001b[39m)\n",
      "\u001b[1;31mTypeError\u001b[0m: get_three_slices_within() takes 1 positional argument but 2 were given"
     ]
    }
   ],
   "source": [
    "root_dir = \"data/cases/\"\n",
    "for caseID in os.listdir(root_dir):\n",
    "\tif caseID.startswith('.'):\n",
    "\t\tcontinue\n",
    "\tcase = CardiacCT(caseID)\n",
    "\n",
    "\tif case.fullCT is None:\n",
    "\t\tcontinue\n",
    "\t\t\n",
    "\t\t# TO DO - get dicom path\n",
    "\t\t# dicom2nifti.convert_dicom.dicom_series_to_nifti(dicom_dir, os.path.join(patient_dir, \"OG_CT.nii.gz\"),)\n",
    "\t\n",
    "\t#segmenting_volumes(case)\n",
    "\t\n",
    "\tprint(f\"Processing case: {caseID}\")\n",
    "\tcase.crop_pipeline()\n",
    "\tcase.trim_empty_slices()\n",
    "\tcase.resample_pipeline()\n",
    "\tcase.select_slices()\n",
    "\tbreak\n",
    "\t"
   ]
  },
  {
   "cell_type": "code",
   "execution_count": 59,
   "id": "ad0423f5",
   "metadata": {},
   "outputs": [
    {
     "name": "stdout",
     "output_type": "stream",
     "text": [
      "LV indices: [29 30 31 32 33 34 35 36 37 38 39 40 41 42 43 44 45 46 47 48 49 50 51 52\n",
      " 53 54 55 56 57 58 59]\n"
     ]
    },
    {
     "ename": "TypeError",
     "evalue": "get_three_slices_within() takes 1 positional argument but 2 were given",
     "output_type": "error",
     "traceback": [
      "\u001b[1;31m---------------------------------------------------------------------------\u001b[0m",
      "\u001b[1;31mTypeError\u001b[0m                                 Traceback (most recent call last)",
      "Cell \u001b[1;32mIn[59], line 7\u001b[0m\n\u001b[0;32m      5\u001b[0m \u001b[38;5;28;01mcase\u001b[39;00m\u001b[38;5;241m.\u001b[39mtrim_empty_slices()\n\u001b[0;32m      6\u001b[0m \u001b[38;5;28;01mcase\u001b[39;00m\u001b[38;5;241m.\u001b[39mresample_pipeline()\n\u001b[1;32m----> 7\u001b[0m \u001b[38;5;28;43;01mcase\u001b[39;49;00m\u001b[38;5;241;43m.\u001b[39;49m\u001b[43mselect_slices\u001b[49m\u001b[43m(\u001b[49m\u001b[43m)\u001b[49m\n",
      "File \u001b[1;32mc:\\Users\\sulei\\source\\Dissertation\\Suleima\\core\\Case.py:290\u001b[0m, in \u001b[0;36mCardiacCT.select_slices\u001b[1;34m(self)\u001b[0m\n\u001b[0;32m    287\u001b[0m lv_indices \u001b[38;5;241m=\u001b[39m \u001b[38;5;28mself\u001b[39m\u001b[38;5;241m.\u001b[39mget_LV_indices()\n\u001b[0;32m    288\u001b[0m \u001b[38;5;28mprint\u001b[39m(\u001b[38;5;124mf\u001b[39m\u001b[38;5;124m\"\u001b[39m\u001b[38;5;124mLV indices: \u001b[39m\u001b[38;5;132;01m{\u001b[39;00mlv_indices[\u001b[38;5;124m'\u001b[39m\u001b[38;5;124msag\u001b[39m\u001b[38;5;124m'\u001b[39m]\u001b[38;5;132;01m}\u001b[39;00m\u001b[38;5;124m\"\u001b[39m)\n\u001b[0;32m    289\u001b[0m slices \u001b[38;5;241m=\u001b[39m {\n\u001b[1;32m--> 290\u001b[0m \t\u001b[38;5;124m\"\u001b[39m\u001b[38;5;124msagittal\u001b[39m\u001b[38;5;124m\"\u001b[39m: \u001b[38;5;28;43mself\u001b[39;49m\u001b[38;5;241;43m.\u001b[39;49m\u001b[43mget_three_slices_within\u001b[49m\u001b[43m(\u001b[49m\u001b[43mlv_indices\u001b[49m\u001b[43m[\u001b[49m\u001b[38;5;124;43m\"\u001b[39;49m\u001b[38;5;124;43msag\u001b[39;49m\u001b[38;5;124;43m\"\u001b[39;49m\u001b[43m]\u001b[49m\u001b[43m)\u001b[49m,\n\u001b[0;32m    291\u001b[0m \t\u001b[38;5;124m\"\u001b[39m\u001b[38;5;124mcoronal\u001b[39m\u001b[38;5;124m\"\u001b[39m: \u001b[38;5;28mself\u001b[39m\u001b[38;5;241m.\u001b[39mget_three_slices_within(lv_indices[\u001b[38;5;124m\"\u001b[39m\u001b[38;5;124mcor\u001b[39m\u001b[38;5;124m\"\u001b[39m]),\n\u001b[0;32m    292\u001b[0m \t\u001b[38;5;124m\"\u001b[39m\u001b[38;5;124maxial\u001b[39m\u001b[38;5;124m\"\u001b[39m: \u001b[38;5;28mself\u001b[39m\u001b[38;5;241m.\u001b[39mget_three_slices_within(lv_indices[\u001b[38;5;124m\"\u001b[39m\u001b[38;5;124maxi\u001b[39m\u001b[38;5;124m\"\u001b[39m])\n\u001b[0;32m    293\u001b[0m }\n\u001b[0;32m    294\u001b[0m \u001b[38;5;28mself\u001b[39m\u001b[38;5;241m.\u001b[39mlog_message(\u001b[38;5;124mf\u001b[39m\u001b[38;5;124m\"\u001b[39m\u001b[38;5;124mSelected slices: \u001b[39m\u001b[38;5;132;01m{\u001b[39;00mslices\u001b[38;5;132;01m}\u001b[39;00m\u001b[38;5;124m\"\u001b[39m)\n",
      "\u001b[1;31mTypeError\u001b[0m: get_three_slices_within() takes 1 positional argument but 2 were given"
     ]
    }
   ],
   "source": [
    "caseID = \"CNTRL_AAP_50415783_61F\"\n",
    "\n",
    "case = CardiacCT(caseID)\n",
    "case.crop_pipeline()\n",
    "case.trim_empty_slices()\n",
    "case.resample_pipeline()\n",
    "case.select_slices()\n"
   ]
  },
  {
   "cell_type": "code",
   "execution_count": null,
   "id": "a3f0dca8",
   "metadata": {},
   "outputs": [
    {
     "data": {
      "application/vnd.jupyter.widget-view+json": {
       "model_id": "7f06d76d2a9a49f4b8ee5930828e7dbf",
       "version_major": 2,
       "version_minor": 0
      },
      "text/plain": [
       "interactive(children=(IntSlider(value=14, description='slice_index', max=29), Output()), _dom_classes=('widget…"
      ]
     },
     "metadata": {},
     "output_type": "display_data"
    }
   ],
   "source": [
    "lv = case.croppedsegs[\"LV\"]\n",
    "ct = case.croppedCT\n",
    "\n",
    "scrollable_ct_mask(ct, lv) "
   ]
  },
  {
   "cell_type": "code",
   "execution_count": 55,
   "id": "2c7aa927",
   "metadata": {},
   "outputs": [
    {
     "data": {
      "application/vnd.jupyter.widget-view+json": {
       "model_id": "4fc3879c5db24320bd0c51afb511ee8b",
       "version_major": 2,
       "version_minor": 0
      },
      "text/plain": [
       "interactive(children=(IntSlider(value=31, description='slice_index', max=63), Output()), _dom_classes=('widget…"
      ]
     },
     "metadata": {},
     "output_type": "display_data"
    }
   ],
   "source": [
    "lv = case.resampledsegs[\"LV\"]\n",
    "ct = case.resampledCT\n",
    "\n",
    "scrollable_ct_mask(ct, lv) "
   ]
  }
 ],
 "metadata": {
  "kernelspec": {
   "display_name": "Python 3",
   "language": "python",
   "name": "python3"
  },
  "language_info": {
   "codemirror_mode": {
    "name": "ipython",
    "version": 3
   },
   "file_extension": ".py",
   "mimetype": "text/x-python",
   "name": "python",
   "nbconvert_exporter": "python",
   "pygments_lexer": "ipython3",
   "version": "3.9.13"
  }
 },
 "nbformat": 4,
 "nbformat_minor": 5
}
