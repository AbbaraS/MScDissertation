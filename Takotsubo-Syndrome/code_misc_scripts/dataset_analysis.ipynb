{
 "cells": [
  {
   "cell_type": "code",
   "execution_count": null,
   "id": "073a1813",
   "metadata": {},
   "outputs": [
    {
     "name": "stdout",
     "output_type": "stream",
     "text": [
      "Gender Breakdown by Class:\n",
      "  Normal: 53 Female, 23 Male\n",
      "  Takotsubo: 84 Female, 8 Male\n"
     ]
    }
   ],
   "source": [
    "import pandas as pd\n",
    "import matplotlib.pyplot as plt\n",
    "\n",
    "takotsubo_df = pd.read_csv(\"takotsubo_cases_metadata.csv\")\n",
    "normal_df = pd.read_csv(\"normal_cases_metadata.csv\")\n",
    "\n",
    "\n",
    "gender_map = {1: \"Female\", 0: \"Male\"}\n",
    "takotsubo_df[\"Gender\"] = takotsubo_df[\"Gender\"].map(gender_map)\n",
    "normal_df[\"Gender\"] = normal_df[\"Gender\"].map(gender_map)\n",
    "\n",
    "\n",
    "takotsubo_df[\"Class\"] = \"Takotsubo\"\n",
    "normal_df[\"Class\"] = \"Normal\"\n",
    "\n",
    "# Combine for summary\n",
    "df = pd.concat([takotsubo_df, normal_df], ignore_index=True)\n",
    "\n",
    "# Gender breakdown\n",
    "gender_counts = df.groupby([\"Class\", \"Gender\"]).size().unstack(fill_value=0)\n",
    "\n",
    "# Print gender counts\n",
    "print(\"Gender Breakdown by Class:\")\n",
    "for cls in gender_counts.index:\n",
    "    female = gender_counts.loc[cls].get(\"Female\", 0)\n",
    "    male = gender_counts.loc[cls].get(\"Male\", 0)\n",
    "    print(f\"  {cls}: {female} Female, {male} Male\")\n",
    "\n",
    "# Save histograms\n",
    "for cls, filename in [(\"Takotsubo\", \"takotsubo_age_histogram.png\"),\n",
    "                      (\"Normal\", \"normal_age_histogram.png\")]:\n",
    "    subset = df[df[\"Class\"] == cls]\n",
    "    plt.figure(figsize=(6, 4))\n",
    "    plt.hist(subset[\"Age\"], bins=10, color='skyblue', edgecolor='black', alpha=0.8)\n",
    "    plt.title(f\"{cls} Age Distribution\")\n",
    "    plt.xlabel(\"Age\")\n",
    "    plt.ylabel(\"Number of Patients\")\n",
    "    plt.tight_layout()\n",
    "    plt.savefig(f\"figures/{filename}\")\n",
    "    plt.close()\n"
   ]
  }
 ],
 "metadata": {
  "kernelspec": {
   "display_name": "myenv3",
   "language": "python",
   "name": "python3"
  },
  "language_info": {
   "codemirror_mode": {
    "name": "ipython",
    "version": 3
   },
   "file_extension": ".py",
   "mimetype": "text/x-python",
   "name": "python",
   "nbconvert_exporter": "python",
   "pygments_lexer": "ipython3",
   "version": "3.9.6"
  }
 },
 "nbformat": 4,
 "nbformat_minor": 5
}
